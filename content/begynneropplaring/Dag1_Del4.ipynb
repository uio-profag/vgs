{
 "cells": [
  {
   "cell_type": "markdown",
   "metadata": {},
   "source": [
    "# Løkker og iterasjon\n",
    "\n",
    "I dette avsnittet skal vi se nærmere på løkker og iterasjon over lister. Det finnes to typer løkker i Python, for-løkker og while-løkker. For-løkker brukes gjerne dersom man på forhånd vet hvor langt man vil iterere basert på en teller. Eksempel:"
   ]
  },
  {
   "cell_type": "code",
   "execution_count": 1,
   "metadata": {
    "scrolled": true
   },
   "outputs": [
    {
     "name": "stdout",
     "output_type": "stream",
     "text": [
      "0\n",
      "1\n",
      "2\n",
      "3\n",
      "4\n",
      "5\n",
      "6\n",
      "7\n",
      "8\n",
      "9\n"
     ]
    }
   ],
   "source": [
    "for i in range(0, 10):\n",
    "    print(i)"
   ]
  },
  {
   "cell_type": "markdown",
   "metadata": {},
   "source": [
    "Denne løkken vil, som vi ser, telle _fra_ 0, og _til, men ikke med_ 10. I motsetning til for-løkker, vil while-løkker kjøre så lenge en tilstand er sann. For eksempel:"
   ]
  },
  {
   "cell_type": "code",
   "execution_count": 2,
   "metadata": {},
   "outputs": [
    {
     "name": "stdout",
     "output_type": "stream",
     "text": [
      "x\n",
      "xx\n",
      "xxx\n"
     ]
    }
   ],
   "source": [
    "a = \"\"\n",
    "while(a != \"xxx\"):\n",
    "    a = a + \"x\"\n",
    "    print(a)"
   ]
  },
  {
   "cell_type": "markdown",
   "metadata": {},
   "source": [
    "Som vi ser printes \"x\", \"xx\" og \"xxx\", men når verdien av a ikke lenger tilfredsstiller testen til løkken avsluttes programmet."
   ]
  },
  {
   "cell_type": "markdown",
   "metadata": {},
   "source": [
    "### Oppgave 1: enkel for-løkke med liste\n",
    "\n",
    "a) Definer en liste som inneholder følgende verdier: 6, -4, 7, -2, 8, -3, 9, -11.\n",
    "\n",
    "b) Bruk en for-løkke til å iterere igjennom alle verdiene i listen og finn den minste verdien. Skriv ut den minste verdien. Gjør dette uten å bruke Python sin innebygde min-funksjon.\n",
    "\n",
    "c) Bruk en ny for-løkke tilsvarende oppgave b, men finn og skriv ut den største verdien."
   ]
  },
  {
   "cell_type": "markdown",
   "metadata": {},
   "source": [
    "## Anvendelser\n",
    "\n",
    "Løkker brukes for å gjenta en eller flere handlinger et gitt antall ganger. Enkelte funksjoner krever av natur at man benytter seg av løkker, som for eksempel en summeformel:"
   ]
  },
  {
   "cell_type": "code",
   "execution_count": 1,
   "metadata": {},
   "outputs": [
    {
     "name": "stdout",
     "output_type": "stream",
     "text": [
      "15\n"
     ]
    }
   ],
   "source": [
    "def summer(x):\n",
    "    verdi = 0\n",
    "    for i in range(1, x+1):\n",
    "        verdi = verdi + i\n",
    "    return verdi\n",
    "\n",
    "print(summer(5))"
   ]
  },
  {
   "cell_type": "markdown",
   "metadata": {},
   "source": [
    "I programmet over har vi skrevet en funksjon _summer(x)_ som summerer tallene fra 1 til og med x. Merk at vi i løkken sier _x+1_, ettersom _range_ gir verdiene til, men _ikke med_ den andre parameteren."
   ]
  },
  {
   "cell_type": "markdown",
   "metadata": {},
   "source": [
    "Vi kan også bruke løkker for å teste funksjoner med argumenter over et gitt spekter. Dette kan være spesielt nyttig om man ønsker å plotte tallene til en graf. For eksempel:"
   ]
  },
  {
   "cell_type": "code",
   "execution_count": 17,
   "metadata": {},
   "outputs": [
    {
     "name": "stdout",
     "output_type": "stream",
     "text": [
      "[4.0, 2.25, 1.0, 0.25, 0.0, 0.25, 1.0, 2.25]\n"
     ]
    }
   ],
   "source": [
    "from pylab import *\n",
    "\n",
    "def f(x):\n",
    "    return x**2\n",
    "\n",
    "verdier = []\n",
    "for i in arange(-2, 2, 0.5):\n",
    "    verdier.append(f(float(i)))\n",
    "    \n",
    "print(verdier)"
   ]
  },
  {
   "cell_type": "markdown",
   "metadata": {},
   "source": [
    "Her har vi skrevet en funksjon som beregner _f(x) = x^2_. Denne kjøres i en løkke for x mellom -2 og 2, og vi øker telleren med 0.5 for hvert steg. Merk at vi har importert _pylab_ og brukt funksjonen _arange_ i stedet for _range_. Årsaken til dette er at den innebygde _range_-funksjonen ikke er i stand til å håndtere annet enn heltall, mens vi i dette tilfellet ønsker å flytte oss kun 0.5 for hvert steg i løkken."
   ]
  },
  {
   "cell_type": "markdown",
   "metadata": {},
   "source": [
    "### Oppgave 2\n",
    "\n",
    "a) Definer en funksjon som beregner tredjegradspolynomet _f(x) = 2x^3 + x^2 + 3x + 5_.\n",
    "\n",
    "b) Skriv en løkke som tester funksjonen for x mellom -10 og 10, med steglengde på 0.5. Husk å lagre verdiene i en liste for hvert steg i løkken.\n",
    "\n",
    "c) Plot verdiene fra beregningene til en graf."
   ]
  }
 ],
 "metadata": {
  "kernelspec": {
   "display_name": "Python 3",
   "language": "python",
   "name": "python3"
  },
  "language_info": {
   "codemirror_mode": {
    "name": "ipython",
    "version": 3
   },
   "file_extension": ".py",
   "mimetype": "text/x-python",
   "name": "python",
   "nbconvert_exporter": "python",
   "pygments_lexer": "ipython3",
   "version": "3.6.1"
  }
 },
 "nbformat": 4,
 "nbformat_minor": 2
}
