{
 "cells": [
  {
   "cell_type": "markdown",
   "metadata": {
    "slideshow": {
     "slide_type": "skip"
    }
   },
   "source": [
    "# Funksjoner"
   ]
  },
  {
   "cell_type": "code",
   "execution_count": 2,
   "metadata": {
    "slideshow": {
     "slide_type": "skip"
    }
   },
   "outputs": [],
   "source": [
    "from pylab import *"
   ]
  },
  {
   "cell_type": "markdown",
   "metadata": {
    "slideshow": {
     "slide_type": "skip"
    }
   },
   "source": [
    "I programmering betyr funksjon mye mer enn det gjør i matematikken. I hovedsak så er en funksjon en samling instruksjoner som hører sammen, og som til sammen utfører en oppgave som vi kan sette et navn på. Gjerne noe vi ønsker å kunne utføre flere ganger uten å måtte skrive opp de samme instruksjonene flere ganger. \n",
    "\n",
    "En funksjon i sin enkleste for kan være for eksempel slik: \n"
   ]
  },
  {
   "cell_type": "code",
   "execution_count": 3,
   "metadata": {
    "slideshow": {
     "slide_type": "slide"
    }
   },
   "outputs": [],
   "source": [
    "def f(a):\n",
    "    return a**2"
   ]
  },
  {
   "cell_type": "markdown",
   "metadata": {
    "slideshow": {
     "slide_type": "skip"
    }
   },
   "source": [
    "Her har vi valgt en funksjon som likner på dem vi kjenner fra matematikken. \n",
    "\n",
    "Vi kan *kalle på* denne funksjonen for å få verdier fra den"
   ]
  },
  {
   "cell_type": "code",
   "execution_count": 4,
   "metadata": {
    "scrolled": true,
    "slideshow": {
     "slide_type": "fragment"
    }
   },
   "outputs": [
    {
     "name": "stdout",
     "output_type": "stream",
     "text": [
      "4\n"
     ]
    }
   ],
   "source": [
    "verdi = f(2)\n",
    "print(verdi)"
   ]
  },
  {
   "cell_type": "markdown",
   "metadata": {
    "slideshow": {
     "slide_type": "skip"
    }
   },
   "source": [
    "Og vi kan plotte verdiene, slik som vi nettopp lærte. "
   ]
  },
  {
   "cell_type": "code",
   "execution_count": 5,
   "metadata": {
    "slideshow": {
     "slide_type": "skip"
    }
   },
   "outputs": [
    {
     "data": {
      "image/png": "[encoded data removed]",
      "text/plain": [
       "<Figure size 432x288 with 1 Axes>"
      ]
     },
     "metadata": {
      "needs_background": "light"
     },
     "output_type": "display_data"
    }
   ],
   "source": [
    "x = linspace(0, 2, 10)\n",
    "y = f(x)\n",
    "\n",
    "plot(x, y)\n",
    "xlabel(\"x\")\n",
    "ylabel(\"y\")\n",
    "show()"
   ]
  },
  {
   "cell_type": "markdown",
   "metadata": {
    "slideshow": {
     "slide_type": "slide"
    }
   },
   "source": [
    " \n",
    "De grunnleggende elementene i en funksjon i Python er\n",
    "\n",
    "```python\n",
    "def minFunksjon(argument):\n",
    "    <gjør noe>\n",
    "    return <returvariable>\n",
    "```"
   ]
  },
  {
   "cell_type": "markdown",
   "metadata": {
    "slideshow": {
     "slide_type": "skip"
    }
   },
   "source": [
    "Vi skriver ordet `def` for å si til python at det kommer en funksjon. Så skriver vi opp det vi vil at funksjonen skal hete, og i parentes bak navnet skriver vi hvilke argumenter funksjonen skal kunne ta imot. Så kommer `:`, som forteller at vi nå skal gå over til innholdet i funksjonen. Innholdet, altså det som skal utføres i funksjonen, ligger på de neste linjene med innrykk. Innholdet i funksjonen fortsetter helt til vi kommet til en linje som ikke er rykket inn i forhold til `def`-ordet. Funksjonen sier seg ferdig enten når den møter `return`, altså der funksjonen returnerer, eller hvis den når bunnen av det innrykkede området.  \n",
    "\n",
    "Merk at vi gjør en distinksjon mellom å *definere* funksjonen og det å *kalle* på funksjonen. Det er når vi *kaller* på funksjonen at koden i funksjonen faktisk kjører. "
   ]
  },
  {
   "cell_type": "markdown",
   "metadata": {
    "slideshow": {
     "slide_type": "fragment"
    }
   },
   "source": [
    "Vi kaller på funksjonen med funksjonsnavn etterfulgt av parenteser der vi putter inn argumentet. \n",
    "```python\n",
    "minFunksjon(arg)\n",
    "```\n",
    "eller \n",
    "```python\n",
    "x = minFunksjon(arg)\n",
    "``` "
   ]
  },
  {
   "cell_type": "markdown",
   "metadata": {
    "slideshow": {
     "slide_type": "skip"
    }
   },
   "source": [
    "Vi skal først passe på at vi kan syntaks for å definere og å kalle på funksjoner. Derfor går vi rett på første underveisoppgave. "
   ]
  },
  {
   "cell_type": "markdown",
   "metadata": {
    "slideshow": {
     "slide_type": "slide"
    }
   },
   "source": [
    "### Underveisoppgave\n",
    "**a)** Programmer en funksjon som konverterer Celsiusgrader til Fahrenheit. Du har sikkert lyst på å vite at $T_F = \\frac{9}{5} T_C + 32$  \n",
    "**b)** Kall på funksjonen for å regne ut funksjonsverdier som du kan plotte. \n",
    "\n",
    "Husk at\n",
    "\n",
    "```python\n",
    "def minFunksjon(argument):\n",
    "    <gjør noe>\n",
    "    return <returvariable>\n",
    "```\n",
    "\n",
    "```python\n",
    "x = minFunksjon(arg)\n",
    "```\n",
    "\n",
    "f. eks. \n",
    "```python\n",
    "def f(a): \n",
    "    return a**2\n",
    "\n",
    "y = f(4)\n",
    "```\n"
   ]
  },
  {
   "cell_type": "markdown",
   "metadata": {
    "slideshow": {
     "slide_type": "skip"
    }
   },
   "source": [
    "> **Oppgaven er ment å trene**\n",
    "- Syntaks \n",
    "- Kalle på funksjoner\n"
   ]
  },
  {
   "cell_type": "markdown",
   "metadata": {
    "slideshow": {
     "slide_type": "skip"
    }
   },
   "source": [
    "I programmering er det vanlig at vi lager oss funksjoner for å sette et navn på noe slik at vi kan huske det. For et menneske kan det være fint å ha en funksjon som heter noe som sier hva funksjonen gjør eller kan brukes til. For eksempel kan vi ta for oss vinkelen mellom to vektorer. Den kan vi godt kalle for `vektorVinkel`, slik at et menneske kan forstå hva den gjør. Her skal vi også se at funksjoner godt kan ta mer enn ett argument. \n"
   ]
  },
  {
   "cell_type": "markdown",
   "metadata": {
    "slideshow": {
     "slide_type": "slide"
    }
   },
   "source": [
    "Formelen for vinkelen mellom to vektorer  \n",
    "$\\cos \\angle(a, b) = \\frac{\\overrightarrow a\\cdot \\overrightarrow b}{ |\\overrightarrow a| |\\overrightarrow b]}$"
   ]
  },
  {
   "cell_type": "code",
   "execution_count": 7,
   "metadata": {
    "slideshow": {
     "slide_type": "skip"
    }
   },
   "outputs": [],
   "source": [
    "def vektorVinkel(a, b): \n",
    "    # Regner ut vinkelen mellom to vektorer. \n",
    "    len_a = sqrt(dot(a,a))\n",
    "    len_b = sqrt(dot(b,b))\n",
    "    cosvinkel = dot(a, b)/(len_a*len_b)\n",
    "    vinkel = arccos(cosvinkel) # Det vi er vant til at heter cos^-1 heter arccos i python\n",
    "    return vinkel\n",
    "    "
   ]
  },
  {
   "cell_type": "code",
   "execution_count": 9,
   "metadata": {
    "slideshow": {
     "slide_type": "skip"
    }
   },
   "outputs": [
    {
     "name": "stdout",
     "output_type": "stream",
     "text": [
      "Vinkelen mellom  [1 2] og [2 3] er  0.124 rad\n",
      " altså 7.13 grader\n"
     ]
    }
   ],
   "source": [
    "vektor_a = array([1,2]) # konvertering direkte til array\n",
    "vektor_b = array([2,3])\n",
    "\n",
    "vinkel_ab = vektorVinkel(vektor_a, vektor_b)\n",
    "# i python sånn som vi har satt opp med pylab import *, så regner vi alltid i radianer. \n",
    "print(\"Vinkelen mellom \", vektor_a, \"og\", vektor_b, \"er \", round(vinkel_ab,3), \"rad\\n\", \"altså\", round(degrees(vinkel_ab), 2), \"grader\")"
   ]
  },
  {
   "cell_type": "markdown",
   "metadata": {
    "slideshow": {
     "slide_type": "slide"
    }
   },
   "source": [
    "### Underveisoppgave\n",
    "\n",
    "**a)** Skriv inn funksjonen `vektorVinkel` på egen maskin. Kall på den med to vektorer.  \n",
    "**b)** Gjør om a til en 3D-vektor og prøv igjen. Gjør så også b til en 3D-vektor og prøv igjen.   \n",
    "**c)** Hvilken funksjon er det som avgjør om det går bra eller ikke å sette inn 3D-vektorer her?\n",
    "\n",
    "\n",
    "```python\n",
    "def vektorVinkel(a, b): \n",
    "    len_a = sqrt(dot(a,a))\n",
    "    len_b = sqrt(dot(b,b))\n",
    "    cosvinkel = dot(a, b)/(len_a*len_b)\n",
    "    vinkel = arccos(cosvinkel)\n",
    "    return vinkel\n",
    "```"
   ]
  },
  {
   "cell_type": "markdown",
   "metadata": {
    "slideshow": {
     "slide_type": "skip"
    }
   },
   "source": [
    "> **Oppgaven er ment å trene**\n",
    "- Funksjoner kan ha flere linjer kode før `return`\n",
    "- Skrive inn flere linjer kode uten feil, eller feilsøke. Her er det en del parenteser, så feilsannsynligheten er stor, men feilene skal ikke være så vanskelige å løse\n",
    "- Skrive og kalle på funksjoner med flere argumenter\n",
    "- Bruk av funksjon inni funksjon. Vi gjør det eksplisitt gjennom poenget med dot-funksjonen\n",
    "\n",
    "> **Forklaringer**\n",
    "- Noen funksjoner tåler å ta imot arrays. Det gjelder de fleste matematiske funksjonene. Men dot-produktet krever at arraysene har samme lengde, ellers gir ikke skalarproduktet mening, og vi får en feilmelding."
   ]
  },
  {
   "cell_type": "markdown",
   "metadata": {
    "slideshow": {
     "slide_type": "skip"
    }
   },
   "source": [
    "## Funksjoner som ikke er matematiske (i skolematematisk forstand)\n",
    "\n",
    "Så funksjoner i programmering er beslektet med funksjoner i matematikken. Eller kanskje mer presist: Vi kan få funksjoner i programmering til å gjøre de tingene som funksjoner i matematikken gjør. Men vi kan også få dem til å gjøre så mye mer!\n",
    "\n",
    "Vi kan for eksempel jobbe litt med en streng"
   ]
  },
  {
   "cell_type": "code",
   "execution_count": 10,
   "metadata": {
    "slideshow": {
     "slide_type": "skip"
    }
   },
   "outputs": [
    {
     "data": {
      "text/plain": [
       "'Ola Normann'"
      ]
     },
     "execution_count": 10,
     "metadata": {},
     "output_type": "execute_result"
    }
   ],
   "source": [
    "def fulltNavn(fornavn, etternavn):\n",
    "    return fornavn + \" \" + etternavn\n",
    "\n",
    "fulltNavn(\"Ola\", \"Normann\")"
   ]
  },
  {
   "cell_type": "markdown",
   "metadata": {
    "slideshow": {
     "slide_type": "skip"
    }
   },
   "source": [
    "Python tolker ikke det å legge sammen to strenger som noe matematisk. Den velger rett og slett bare å sette sammen strengene, som om $2 + 3 = 23$. \n",
    "\n",
    "\n",
    "Eller vi kan se på noe som ble annerledes enn vi kanskje hadde tenkt oss:"
   ]
  },
  {
   "cell_type": "code",
   "execution_count": 11,
   "metadata": {
    "scrolled": true,
    "slideshow": {
     "slide_type": "skip"
    }
   },
   "outputs": [
    {
     "name": "stdout",
     "output_type": "stream",
     "text": [
      "None\n"
     ]
    }
   ],
   "source": [
    "def g(a, b, c, x):\n",
    "    y = a*x**2 + b*x + c\n",
    "    \n",
    "print(g(2, 4, 1, 7))"
   ]
  },
  {
   "cell_type": "markdown",
   "metadata": {
    "slideshow": {
     "slide_type": "skip"
    }
   },
   "source": [
    "Her ser jo alt veldig matematisk ut, og vi regner ut et annengradsuttrykk. Men når det kommer til stykket så returnerer vi ingenting, og da er det jo ikke en matematisk funksjon. \n",
    "\n",
    "Vi kan definere `g` på nytt med en print inni"
   ]
  },
  {
   "cell_type": "code",
   "execution_count": 12,
   "metadata": {
    "slideshow": {
     "slide_type": "skip"
    }
   },
   "outputs": [
    {
     "name": "stdout",
     "output_type": "stream",
     "text": [
      "g( 2 , 4 , 1 , 7 ) =  127\n"
     ]
    }
   ],
   "source": [
    "def g(a, b, c, x):\n",
    "    y = a*x**2 + b*x + c\n",
    "    print(\"g(\", a, \",\", b, \",\", c, \",\",x,\") = \", y)\n",
    "    \n",
    "g(2, 4, 1, 7)"
   ]
  },
  {
   "cell_type": "markdown",
   "metadata": {
    "slideshow": {
     "slide_type": "skip"
    }
   },
   "source": [
    "Vi returnerer fremdeles ingenting, men nå får vi i det minste se hva som har blitt regnet ut inni funksjonen. "
   ]
  },
  {
   "cell_type": "markdown",
   "metadata": {
    "slideshow": {
     "slide_type": "slide"
    }
   },
   "source": [
    "### Underveisoppgave\n",
    "c) Modifiser funksjonen med konvertering fra Celsius til Fahrenheit slik at i stedet for å returnere et tall, så returnerer den en streng som sier noe slikt som \"XX grader Celsius tilsvarer XX grader Fahrenheit\""
   ]
  },
  {
   "cell_type": "markdown",
   "metadata": {
    "slideshow": {
     "slide_type": "skip"
    }
   },
   "source": [
    "> **Oppgaven er ment å trene**\n",
    "- Programmeringsfunksjoner trenger ikke være matematiske\n",
    "- Input og output trenger ikke å ha samme type"
   ]
  },
  {
   "cell_type": "markdown",
   "metadata": {
    "slideshow": {
     "slide_type": "skip"
    }
   },
   "source": [
    "Vi kan returnere alt fra ingen til mange variable. Der det er flere enn én returvariabel skiller vi dem med komma. Vi kan også lage funksjoner som ikke returnerer, men som bare gjør noe. "
   ]
  },
  {
   "cell_type": "code",
   "execution_count": 88,
   "metadata": {
    "slideshow": {
     "slide_type": "skip"
    }
   },
   "outputs": [
    {
     "data": {
      "image/png": "[encoded data removed]",
      "text/plain": [
       "<Figure size 432x288 with 1 Axes>"
      ]
     },
     "metadata": {
      "needs_background": "light"
     },
     "output_type": "display_data"
    }
   ],
   "source": [
    "def figurMinimum(x, y, xaksetekst, yaksetekst, tittel):\n",
    "    plot(x, y) \n",
    "    xlabel(xaksetekst)\n",
    "    ylabel(yaksetekst)\n",
    "    title(tittel)\n",
    "    \n",
    "x = linspace(0, 2*pi)\n",
    "y = sin(x)\n",
    "\n",
    "figurMinimum(x, y, \"Tid\", \"Posisjon\", \"Svingebevegelse\")"
   ]
  },
  {
   "cell_type": "markdown",
   "metadata": {
    "slideshow": {
     "slide_type": "slide"
    }
   },
   "source": [
    "Om vi skal være pirkeformelle, så kan vi legge til at funksjoner som ikke returnerer noe rent faktisk returnerer `None`, som er et objekt av typen `NoneType`."
   ]
  },
  {
   "cell_type": "code",
   "execution_count": 13,
   "metadata": {
    "slideshow": {
     "slide_type": "fragment"
    }
   },
   "outputs": [
    {
     "name": "stdout",
     "output_type": "stream",
     "text": [
      "None\n",
      "<class 'NoneType'>\n"
     ]
    }
   ],
   "source": [
    "def f(x): \n",
    "    y = x**2\n",
    "    \n",
    "print(f(3))\n",
    "print(type(f(3)))"
   ]
  },
  {
   "cell_type": "markdown",
   "metadata": {
    "slideshow": {
     "slide_type": "skip"
    }
   },
   "source": [
    "## Funksjon kaller på funksjon\n",
    "\n",
    "\n",
    "Det er ikke noe i veien for å kalle på funksjoner inni funksjoner. Pass da bare på at funksjonene er definert i riktig rekkefølge, slik at funksjonen som kaller på en annen funksjon er definert etter funksjonen som den kaller på:\n"
   ]
  },
  {
   "cell_type": "code",
   "execution_count": 13,
   "metadata": {
    "slideshow": {
     "slide_type": "skip"
    }
   },
   "outputs": [
    {
     "name": "stdout",
     "output_type": "stream",
     "text": [
      "Eirik Jensen\n"
     ]
    }
   ],
   "source": [
    "def kontrollerNavn(navn):\n",
    "    # Følger navnet reglene vi har satt for navn?\n",
    "    if len(navn) < 2:\n",
    "        return False\n",
    "    elif navn[0].islower():\n",
    "        return False\n",
    "    else:\n",
    "        return True\n",
    "\n",
    "def fulltNavn(fornavn, etternavn):\n",
    "    if not kontrollerNavn(fornavn):\n",
    "        print(\"Fornavnet\", fornavn, \"er ikke gyldig\")\n",
    "        return None\n",
    "    if not kontrollerNavn(etternavn):\n",
    "        print(\"Etternavnet\", etternavn, \"er ikke gyldig\")\n",
    "        return None\n",
    "    else:\n",
    "        return fornavn + \" \" + etternavn\n",
    "        \n",
    "\n",
    "print(fulltNavn(\"Eirik\", \"Jensen\"))\n",
    "\n",
    "    "
   ]
  },
  {
   "cell_type": "markdown",
   "metadata": {
    "slideshow": {
     "slide_type": "skip"
    }
   },
   "source": [
    "Når sant skal sies, så har vi faktisk drevet med å kalle på funksjoner inni funksjoner gjennom hele økta. For både `dot`, `arccos`og `sqrt`er funksjoner. Disse er riktignok *innebygde* funksjoner, men det betyr bare at det er noen andre som har laget dem, med `def`, `return`og hele pakka. De oppfører seg akkurat som dem vi lager selv. "
   ]
  },
  {
   "cell_type": "markdown",
   "metadata": {
    "slideshow": {
     "slide_type": "slide"
    }
   },
   "source": [
    "### Underveisoppgave\n",
    "\n",
    "Lag en funksjon som beregner arealet som utspennes mellom to vektorer.  \n",
    "Det kan hende du har lyst på formelen $\\frac{1}{2} ab \\sin{(\\angle \\overrightarrow a,  \\overrightarrow b)}$. Glem heller ikke at vi beregnet vinkelen mellom vektorene tidligere i økta med funksjonen `vektorVinkel`. "
   ]
  },
  {
   "cell_type": "markdown",
   "metadata": {
    "slideshow": {
     "slide_type": "skip"
    }
   },
   "source": [
    "> **Oppgaven er ment å trene**\n",
    "- Funksjon i funksjon\n",
    "- Repetisjon av syntaks"
   ]
  },
  {
   "cell_type": "markdown",
   "metadata": {
    "slideshow": {
     "slide_type": "skip"
    }
   },
   "source": [
    "### Oppgave – Rydd opp i koden\n",
    "\n",
    "I koden under skal vi behandle et par datasett. Vi har gjort det på en kronglete måte. Rydd opp i koden slik at den blir mer oversiktlig. \n"
   ]
  },
  {
   "cell_type": "code",
   "execution_count": 59,
   "metadata": {
    "slideshow": {
     "slide_type": "skip"
    }
   },
   "outputs": [
    {
     "data": {
      "text/plain": [
       "Text(0.5,1,'Forsøk 3')"
      ]
     },
     "execution_count": 59,
     "metadata": {},
     "output_type": "execute_result"
    },
    {
     "data": {
      "image/png": "[encoded data removed]",
      "text/plain": [
       "<Figure size 432x288 with 1 Axes>"
      ]
     },
     "metadata": {
      "needs_background": "light"
     },
     "output_type": "display_data"
    },
    {
     "data": {
      "image/png": "[encoded data removed]",
      "text/plain": [
       "<Figure size 432x288 with 1 Axes>"
      ]
     },
     "metadata": {
      "needs_background": "light"
     },
     "output_type": "display_data"
    },
    {
     "data": {
      "image/png": "[encoded data removed]",
      "text/plain": [
       "<Figure size 432x288 with 1 Axes>"
      ]
     },
     "metadata": {
      "needs_background": "light"
     },
     "output_type": "display_data"
    }
   ],
   "source": [
    "tid1 = np.asarray([1, 2, 3, 4, 5, 6, 7, 8])\n",
    "posisjon1 = array([0.4, 0.5, 1.6, 2.6, 2.8, 4.4, 5.7, 7.0])\n",
    "\n",
    "tid2 = np.asarray([1, 2, 3, 4, 5, 6, 7, 8])\n",
    "posisjon2 = array([0.9, 0.6, 1.2, 2.4, 3.5, 4.7, 6.6, 8.6])\n",
    "\n",
    "tid3 = np.asarray([1, 2, 3, 4, 5, 6, 7, 8])\n",
    "posisjon3 = array([0.5, 0.6, 1.3, 2.2, 3.8, 5.1, 6.9, 8.4])\n",
    "\n",
    "plot(log(tid1), log(posisjon1))\n",
    "xlabel(\"log(Tid)\")\n",
    "ylabel(\"log(Posisjon)\")\n",
    "title(\"Forsøk 1\")\n",
    "\n",
    "figure()\n",
    "plot(log(tid2), log(posisjon2))\n",
    "xlabel(\"Tid\")\n",
    "ylabel(\"Posisjon\")\n",
    "title(\"Forsøk 2\")\n",
    "\n",
    "figure()\n",
    "plot(log(tid3), log(posisjon3))\n",
    "xlabel(\"Tid\")\n",
    "ylabel(\"Posisjon\")\n",
    "title(\"Forsøk 3\")"
   ]
  },
  {
   "cell_type": "code",
   "execution_count": 60,
   "metadata": {
    "slideshow": {
     "slide_type": "skip"
    }
   },
   "outputs": [
    {
     "data": {
      "image/png": "[encoded data removed]",
      "text/plain": [
       "<Figure size 432x288 with 1 Axes>"
      ]
     },
     "metadata": {
      "needs_background": "light"
     },
     "output_type": "display_data"
    },
    {
     "data": {
      "image/png": "[encoded data removed]",
      "text/plain": [
       "<Figure size 432x288 with 1 Axes>"
      ]
     },
     "metadata": {
      "needs_background": "light"
     },
     "output_type": "display_data"
    },
    {
     "data": {
      "image/png": "[encoded data removed]",
      "text/plain": [
       "<Figure size 432x288 with 1 Axes>"
      ]
     },
     "metadata": {
      "needs_background": "light"
     },
     "output_type": "display_data"
    }
   ],
   "source": [
    "tid1 = np.asarray([1, 2, 3, 4, 5, 6, 7, 8])\n",
    "posisjon1 = array([0.4, 0.5, 1.6, 2.6, 2.8, 4.4, 5.7, 7.0])\n",
    "\n",
    "tid2 = np.asarray([1, 2, 3, 4, 5, 6, 7, 8])\n",
    "posisjon2 = array([0.9, 0.6, 1.2, 2.4, 3.5, 4.7, 6.6, 8.6])\n",
    "\n",
    "tid3 = np.asarray([1, 2, 3, 4, 5, 6, 7, 8])\n",
    "posisjon3 = array([0.5, 0.6, 1.3, 2.2, 3.8, 5.1, 6.9, 8.4])\n",
    "\n",
    "def analyse(x, y, datasett):\n",
    "    figure()\n",
    "    plot(log(x), log(y))\n",
    "    xlabel(\"log(tid)\")\n",
    "    ylabel(\"log(posisjon)\")\n",
    "    title(\"Datasett \"+datasett)\n",
    "    \n",
    "analyse(tid1, posisjon1, \"1\")\n",
    "analyse(tid2, posisjon2, \"2\")\n",
    "analyse(tid3, posisjon3, \"3\")"
   ]
  },
  {
   "cell_type": "markdown",
   "metadata": {
    "slideshow": {
     "slide_type": "skip"
    }
   },
   "source": [
    "## Funksjoner med løkker i \n"
   ]
  },
  {
   "cell_type": "code",
   "execution_count": 2,
   "metadata": {
    "slideshow": {
     "slide_type": "skip"
    }
   },
   "outputs": [
    {
     "data": {
      "text/plain": [
       "True"
      ]
     },
     "execution_count": 2,
     "metadata": {},
     "output_type": "execute_result"
    }
   ],
   "source": [
    "def isPalindromtall(heltall):\n",
    "    tallListe = list(str(heltall))\n",
    "    isPalindromtall = True\n",
    "    for i in range(len(tallListe)):\n",
    "        if not tallListe[i] == tallListe[-i-1]:\n",
    "            return False\n",
    "    return True\n",
    "\n",
    "isPalindromtall(1881)"
   ]
  },
  {
   "cell_type": "markdown",
   "metadata": {
    "slideshow": {
     "slide_type": "skip"
    }
   },
   "source": [
    "Her har vi laget en funksjon som sjekker om et tall er et palindromtall. Noen vil kanskje si at dette er fortsatt bare en matematisk funksjon. Så la oss prøve å putte inn et vanlig palindrom til funksjonen, for å se hva som skjer. "
   ]
  },
  {
   "cell_type": "code",
   "execution_count": 4,
   "metadata": {
    "slideshow": {
     "slide_type": "skip"
    }
   },
   "outputs": [
    {
     "data": {
      "text/plain": [
       "True"
      ]
     },
     "execution_count": 4,
     "metadata": {},
     "output_type": "execute_result"
    }
   ],
   "source": [
    "isPalindromtall(\"rekker\")"
   ]
  },
  {
   "cell_type": "markdown",
   "metadata": {
    "slideshow": {
     "slide_type": "skip"
    }
   },
   "source": [
    "Det viser seg faktisk at denne funksjonen fungerer på tekst også. Da er det kanskje på sin plass å heller kalle funksjonen for `isPalindrom`. Om noen fortsatt vil hevde at det bare er en matematisk funksjon, så greit nok. I bunn og grunn vil alt vi gjør på datamaskinen kode til noen matematiske operasjoner i 2-tallssystemet. Men i vanlig forstand, så har vi nå laget en funksjon som ikke er en matematisk funksjon. "
   ]
  },
  {
   "cell_type": "markdown",
   "metadata": {
    "slideshow": {
     "slide_type": "skip"
    }
   },
   "source": [
    "Vi kan også bruke funksjoner til andre ting. For eksempel om vi skal lage flere plott som inneholder samme fiksfakseri, men der man kun skal bytte ut dataene som inngår. "
   ]
  },
  {
   "cell_type": "code",
   "execution_count": 14,
   "metadata": {
    "slideshow": {
     "slide_type": "slide"
    }
   },
   "outputs": [
    {
     "data": {
      "image/png": "[encoded data removed]",
      "text/plain": [
       "<Figure size 432x288 with 1 Axes>"
      ]
     },
     "metadata": {},
     "output_type": "display_data"
    }
   ],
   "source": [
    "def plottXKCDPolynomer(eksponentliste):\n",
    "    with xkcd():\n",
    "        x = linspace(0, 1, 100)\n",
    "        for i in eksponentliste:\n",
    "            plot(x, x**i, label=\"$x^%d$\" % i)\n",
    "        legend()\n",
    "        \n",
    "plottXKCDPolynomer([2, 3, 5, 7, 9, 10, 12])"
   ]
  }
 ],
 "metadata": {
  "celltoolbar": "Slideshow",
  "kernelspec": {
   "display_name": "Python 3",
   "language": "python",
   "name": "python3"
  },
  "language_info": {
   "codemirror_mode": {
    "name": "ipython",
    "version": 3
   },
   "file_extension": ".py",
   "mimetype": "text/x-python",
   "name": "python",
   "nbconvert_exporter": "python",
   "pygments_lexer": "ipython3",
   "version": "3.7.2"
  }
 },
 "nbformat": 4,
 "nbformat_minor": 2
}
