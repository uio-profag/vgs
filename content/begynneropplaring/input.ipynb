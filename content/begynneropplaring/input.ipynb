{
 "cells": [
  {
   "cell_type": "markdown",
   "metadata": {},
   "source": [
    "# Input\n",
    "\n",
    "Input er en funksjon i Python som muliggjør brukerinteraksjon med en bruker av programmet i konsollen/terminalen som programmet kjøres i. Input tar kun ett argument. Dette argumentet kan være tomt, men det kan også være en streng, f.eks. et spørsmål. Dette er bare en veiledning til brukeren av programmet, så det har ingenting med hva det vi skriver inn tolkes som. Vi starter med et eksempel:"
   ]
  },
  {
   "cell_type": "code",
   "execution_count": 2,
   "metadata": {},
   "outputs": [
    {
     "name": "stdout",
     "output_type": "stream",
     "text": [
      "Hva heter du? Arne\n"
     ]
    }
   ],
   "source": [
    "navn = input(\"Hva heter du? \")"
   ]
  },
  {
   "cell_type": "markdown",
   "metadata": {},
   "source": [
    "I konsollen vil spørsmålet dukke opp, og du vil måtte skrive inn noe etter spørsmålet. Når du trykker Enter, lagres det du skrev inn i variabelen navn. Hvis vi skriver inn f.eks. \"Arne\", vil koden ovenfor bli det samme som å skrive:"
   ]
  },
  {
   "cell_type": "code",
   "execution_count": 3,
   "metadata": {},
   "outputs": [],
   "source": [
    "navn = \"Arne\""
   ]
  },
  {
   "cell_type": "markdown",
   "metadata": {},
   "source": [
    "Uansett hva vi skriver inn i konsollen, vil det vi skriver inn tolkes som en streng (tekst). Hvis vi da f.eks. tar skriver et tall, vil datamaskinen tolke dette som en tekst. Dette kan vi se hvis vi prøver å legge sammen tallene:"
   ]
  },
  {
   "cell_type": "code",
   "execution_count": 6,
   "metadata": {},
   "outputs": [
    {
     "name": "stdout",
     "output_type": "stream",
     "text": [
      "Skriv inn et tall: 1\n",
      "Skriv inn et tall til: 2\n",
      "Summen av tallene er: 12\n"
     ]
    }
   ],
   "source": [
    "tall1 = input(\"Skriv inn et tall: \")\n",
    "tall2 = input(\"Skriv inn et tall til: \")\n",
    "\n",
    "print(\"Summen av tallene er:\", tall1+tall2)"
   ]
  },
  {
   "cell_type": "markdown",
   "metadata": {},
   "source": [
    "Den legger altså sammen strengen \"1\" og strengen \"2\". Dette blir \"12\", altså bare den ene strenger etterfulgt av den andre. Hvis vi istedenfor ønsker å legge dem sammen matematisk, må vi konvertere dem til tall. Dette gjør vi med funksjonen float() for desimaltall eller int() for heltall:"
   ]
  },
  {
   "cell_type": "code",
   "execution_count": 10,
   "metadata": {},
   "outputs": [
    {
     "name": "stdout",
     "output_type": "stream",
     "text": [
      "Skriv inn et tall: 1\n",
      "Skriv inn et tall til: 2\n",
      "Summen av tallene er: 3.0\n"
     ]
    }
   ],
   "source": [
    "tall1 = input(\"Skriv inn et tall: \")\n",
    "tall2 = input(\"Skriv inn et tall til: \")\n",
    "\n",
    "tall1 = float(tall1)\n",
    "tall2 = float(tall2)\n",
    "\n",
    "print(\"Summen av tallene er:\", tall1+tall2)"
   ]
  },
  {
   "cell_type": "markdown",
   "metadata": {},
   "source": [
    "Vi ser altså at det er viktig å vite hva slags variabeltyper vi har med å gjøre her. Merk også at input er en fin måte å ta inn variabler på, men dersom du skriver lange programmer som du ønsker å teste underveis, kan det bli plagsomt å måtte skrive inn input hver gang du tester. Bruk derfor heller enkle variabler med verdier først, og legg inn input til slutt når du vet at programmet fungerer."
   ]
  },
  {
   "cell_type": "code",
   "execution_count": null,
   "metadata": {},
   "outputs": [],
   "source": []
  }
 ],
 "metadata": {
  "kernelspec": {
   "display_name": "Python 3",
   "language": "python",
   "name": "python3"
  },
  "language_info": {
   "codemirror_mode": {
    "name": "ipython",
    "version": 3
   },
   "file_extension": ".py",
   "mimetype": "text/x-python",
   "name": "python",
   "nbconvert_exporter": "python",
   "pygments_lexer": "ipython3",
   "version": "3.6.3"
  }
 },
 "nbformat": 4,
 "nbformat_minor": 2
}
