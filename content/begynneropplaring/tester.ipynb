{
 "cells": [
  {
   "cell_type": "markdown",
   "metadata": {},
   "source": [
    "# Beslutninger"
   ]
  },
  {
   "cell_type": "markdown",
   "metadata": {},
   "source": [
    "## If-tester\n",
    "Vi står ofte overfor valg som har ulike utfall. Dette kan vi programmere ved å legge inn betingelser som fører til de utfallene vi ønsker. I Python har vi _if-tester_ som gjør dette. If-testene sjekker om en betingelse er utført, og kjører deretter denne betingelsen. En generell syntaks er slik (vi fjerner tegnene < og >):\n"
   ]
  },
  {
   "cell_type": "markdown",
   "metadata": {},
   "source": [
    "```\n",
    "if <betingelse>:\n",
    "    beslutning\n",
    "```"
   ]
  },
  {
   "cell_type": "markdown",
   "metadata": {},
   "source": [
    "Betingelsen kan f.eks. være en logisk slutning som er sann eller usann. Dersom slutninger er sann, gjør programmet det som står innrykket etter kolon. Alt som har samme innrykk her, tilhører den samme beslutningen. De logiske markørene vi kan bruke i testen, er:\n",
    "- Større enn: >\n",
    "- Mindre enn: <\n",
    "- Større enn eller lik: >=\n",
    "- Mindre enn eller lik: <=\n",
    "- Lik: ==\n",
    "- Ikke lik: !=\n",
    "\n",
    "Merk at logisk likhet ikke er det samme som en variabeltilordning. Når vi bruker enkelt likhetstegn, gir vi en variabel en verdi. Når vi bruker dobbelt likhetstegn, bruker vi det som i en likning, og spør i prinsippet om de to uttrykkene på hver side av likhetstegnet er det samme.\n",
    "\n",
    "Her er et eksempel på en enkel if-test:"
   ]
  },
  {
   "cell_type": "code",
   "execution_count": 12,
   "metadata": {},
   "outputs": [],
   "source": [
    "if 2 > 3:\n",
    "    print(\"Verden er rar\")"
   ]
  },
  {
   "cell_type": "markdown",
   "metadata": {},
   "source": [
    "Her får vi ingen output fordi betingelsen aldri er oppfylt (2 blir aldri større enn tre). Vi kan derimot skrive:"
   ]
  },
  {
   "cell_type": "code",
   "execution_count": 6,
   "metadata": {},
   "outputs": [
    {
     "name": "stdout",
     "output_type": "stream",
     "text": [
      "Verden er normal\n"
     ]
    }
   ],
   "source": [
    "if 2 < 3:\n",
    "    print(\"Verden er normal\")"
   ]
  },
  {
   "cell_type": "markdown",
   "metadata": {},
   "source": [
    "Her vil vi få output fordi betingelsen er sann. Hvis vi ønsker å skrive ut noe dersom ikke betingelsen er sann, kan vi bruke else-kommandoen:"
   ]
  },
  {
   "cell_type": "code",
   "execution_count": 9,
   "metadata": {},
   "outputs": [
    {
     "name": "stdout",
     "output_type": "stream",
     "text": [
      "Verden er normal\n"
     ]
    }
   ],
   "source": [
    "if 2 < 3:\n",
    "    print(\"Verden er normal\")\n",
    "else:\n",
    "    print(\"Verden er rar\")"
   ]
  },
  {
   "cell_type": "markdown",
   "metadata": {},
   "source": [
    "Vi ser at else ikke skal ha en etterfølgende betingelse. Betingelsen er rett og slett at betingelsen ovenfor ikke er sann. Vi kan også teste flere betingelser enn én ved hjelp av elif:"
   ]
  },
  {
   "cell_type": "code",
   "execution_count": 10,
   "metadata": {},
   "outputs": [
    {
     "name": "stdout",
     "output_type": "stream",
     "text": [
      "Skriv inn et tall:2\n",
      "Tallet er positivt\n"
     ]
    }
   ],
   "source": [
    "tall = input(\"Skriv inn et tall:\")\n",
    "tall = float(tall)\n",
    "\n",
    "if tall > 0:\n",
    "    print(\"Tallet er positivt\")\n",
    "elif tall < 0:\n",
    "    print(\"Tallet er negativt\")\n",
    "else:\n",
    "    print(\"Tallet er 0\")"
   ]
  },
  {
   "cell_type": "markdown",
   "metadata": {},
   "source": [
    "Det er kun if som er nødvendig å bruke, og if-setningen starter en testesekvens som kan, men som ikke må, avsluttes med else. Merk at det bare er én (den første) betingelsen som er sann, som avgjør beslutningen:"
   ]
  },
  {
   "cell_type": "code",
   "execution_count": 11,
   "metadata": {},
   "outputs": [
    {
     "name": "stdout",
     "output_type": "stream",
     "text": [
      "Tallet er større enn 1\n"
     ]
    }
   ],
   "source": [
    "tall = 2\n",
    "\n",
    "if tall > 1:\n",
    "    print(\"Tallet er større enn 1\")\n",
    "elif tall == 2:\n",
    "    print(\"Tallet er 2\")"
   ]
  },
  {
   "cell_type": "markdown",
   "metadata": {},
   "source": [
    "Vi får altså ikke ut at tallet er 2 fordi den første betingelsen inntraff først. Hvis vi derimot ville ha ut begge, kan vi bruke to if-tester:"
   ]
  },
  {
   "cell_type": "code",
   "execution_count": 13,
   "metadata": {},
   "outputs": [
    {
     "name": "stdout",
     "output_type": "stream",
     "text": [
      "Tallet er større enn 1\n",
      "Tallet er 2\n"
     ]
    }
   ],
   "source": [
    "tall = 2\n",
    "\n",
    "if tall > 1:\n",
    "    print(\"Tallet er større enn 1\")\n",
    "if tall == 2:\n",
    "    print(\"Tallet er 2\")"
   ]
  },
  {
   "cell_type": "markdown",
   "metadata": {},
   "source": [
    "Det kan være lurt å bruke elif istedenfor else hvis en ikke er helt sikker på at alle alternativer er dekket. Med elif er en helt sikker hva som testes, mens else kan inkludere betingelser du ikke har tenkt på!"
   ]
  },
  {
   "cell_type": "markdown",
   "metadata": {},
   "source": [
    "## Delelighet\n",
    "\n",
    "Et enkelt eksempel på bruk av tester i matematikk, er å avgjøre hvorvidt et tall er delelig på et annet. En operator vi da må introdusere, er modulus. Modulus angir resten etter en heltallsdivisjon. Heltallsdivisjon kan vi utføre ved å bruke dobbel dele, //."
   ]
  },
  {
   "cell_type": "code",
   "execution_count": 4,
   "metadata": {},
   "outputs": [
    {
     "data": {
      "text/plain": [
       "3"
      ]
     },
     "execution_count": 4,
     "metadata": {},
     "output_type": "execute_result"
    }
   ],
   "source": [
    "23//6"
   ]
  },
  {
   "cell_type": "markdown",
   "metadata": {},
   "source": [
    "23 heltallsdividert på 6 gir 3 fordi 3 er det høyeste heltallet som ganget med 6 gir det tallet som er nærmes mulig (men ikke over!) 23. Siden 6 ganger 3 er 18, vil vi ha en rest på 5. Dette får vi fram med modulus, %."
   ]
  },
  {
   "cell_type": "code",
   "execution_count": 5,
   "metadata": {},
   "outputs": [
    {
     "data": {
      "text/plain": [
       "5"
      ]
     },
     "execution_count": 5,
     "metadata": {},
     "output_type": "execute_result"
    }
   ],
   "source": [
    "23%6"
   ]
  },
  {
   "cell_type": "markdown",
   "metadata": {},
   "source": [
    "Hvis heltallsdivisjonen går opp, blir resten 0:"
   ]
  },
  {
   "cell_type": "code",
   "execution_count": 6,
   "metadata": {},
   "outputs": [
    {
     "name": "stdout",
     "output_type": "stream",
     "text": [
      "Heltallsdivisjonen 24//6 = 4 \n",
      " Rest = 0\n"
     ]
    }
   ],
   "source": [
    "print(\"Heltallsdivisjonen 24//6 =\", 24//6, \"\\n Rest =\", 24%6)"
   ]
  },
  {
   "cell_type": "markdown",
   "metadata": {},
   "source": [
    "Dette kan vi kombinere med input og tester for å avgjøre om et tall er delelig med et annet tall:"
   ]
  },
  {
   "cell_type": "code",
   "execution_count": 9,
   "metadata": {},
   "outputs": [
    {
     "name": "stdout",
     "output_type": "stream",
     "text": [
      "Skriv inn et tall som skal deles på et annet tall: 4\n",
      "Skriv inn tallet som det første tallet skal deles på: 5\n",
      "4.0 er ikke delelig med 5.0\n"
     ]
    }
   ],
   "source": [
    "tall1 = input(\"Skriv inn et tall som skal deles på et annet tall: \")\n",
    "tall2 = input(\"Skriv inn tallet som det første tallet skal deles på: \")\n",
    "tall1 = float(tall1)\n",
    "tall2 = float(tall2)\n",
    "\n",
    "if tall1%tall2 == 0:\n",
    "    print(tall1, \"er delelig med\", tall2)\n",
    "else:\n",
    "    print(tall1, \"er ikke delelig med\", tall2)\n"
   ]
  },
  {
   "cell_type": "markdown",
   "metadata": {},
   "source": [
    "Dette kan brukes til å utforske tallsystemer, partall, oddetall, delelighet og faktorisering. Spørsmålet \"Er 7 en faktor i tallet X\" kan jo nettopp omformuleres til \"Er X%7 lik 0?\"."
   ]
  },
  {
   "cell_type": "markdown",
   "metadata": {},
   "source": [
    "## Et sammensatt eksempel"
   ]
  },
  {
   "cell_type": "markdown",
   "metadata": {},
   "source": [
    "La oss ta et eksempel fra matematikk. Vi ønsker å lage et program som bruker andregradsformelen til å løse andregradslikninger. Først er det lurt å sette opp det matematiske uttrykket og skaffe seg en oversikt over hvilke valg en da har og hvilke mulige utfall det gir:\n",
    "\n",
    "$$ax^2 + bx + c = 0$$  \n",
    "\n",
    "$$x = \\displaystyle \\frac{-b +- \\sqrt{b^2 - 4ac}}{2a}$$\n",
    "\n",
    "Vi kan tenke at vi har et utfall der vi ikke kan bruke likningen ovenfor, nemlig hvis a = 0. Da får vi et førstegradsuttrykk og vi får løsningen x = -c/b. Dette er det første vi må ta hensyn til. Følgende veit vi at et positivt uttrykk under rottegnet gir to løsninger, mens et negativt gir ingen (reelle) løsninger. Dersom uttrykket under rottegnet er 0, vil vi igjen få kun én løsning. Vi kan stille opp de ulike valgene i et flytskjema, dersom vi ønsker å få oversikt:\n",
    "\n",
    "![Flytskjema1](bilder/andregrads2.png)\n"
   ]
  },
  {
   "cell_type": "markdown",
   "metadata": {},
   "source": [
    "La oss nå lage et program som regner ut dette. Programmet er sammensatt og inneholder flere nivåer av if-tester. Prøv å kjenne igjen strukturen fra flytskjemaet."
   ]
  },
  {
   "cell_type": "code",
   "execution_count": null,
   "metadata": {},
   "outputs": [],
   "source": [
    "# Andregradsløseren\n",
    "from pylab import sqrt # Importerer en kvadratrotfunksjon\n",
    "\n",
    "print(\"Programmet løser likninger av typen ax^2 + bx + c = 0\")\n",
    "a = float(input(\"a = \"))\n",
    "b = float(input(\"b = \"))\n",
    "c = float(input(\"c = \"))\n",
    "\n",
    "if a == 0:\n",
    "    print(\"Funksjonen er et førstegradspolynom\")\n",
    "else:\n",
    "    rotuttrykk = b**2 - 4*a*c\n",
    "    if rotuttrykk == 0:\n",
    "        x = -b/(2*a)\n",
    "        print(\"Likningen har bare én løsning: x =\",x)\n",
    "    elif rotuttrykk > 0:\n",
    "        x1 = (-b + sqrt(rotuttrykk))/(2*a)\n",
    "        x2 = (-b - sqrt(rotuttrykk))/(2*a)\n",
    "        print(\"Likningen har to løsninger: x_1 =\", x1, \"x_2 =\", x2)\n",
    "    elif rotuttrykk < 0:\n",
    "        print(\"Likninga har ingen reelle løsninger!\")"
   ]
  },
  {
   "cell_type": "markdown",
   "metadata": {},
   "source": [
    "Slike programmer tar tid å forstå, men gå igjennom linje for linje og regn gjerne ut for hånd. Merk også spesielt hvordan innrykkene grupperer ulike beslutninger som hører sammen."
   ]
  }
 ],
 "metadata": {
  "kernelspec": {
   "display_name": "Python 3",
   "language": "python",
   "name": "python3"
  },
  "language_info": {
   "codemirror_mode": {
    "name": "ipython",
    "version": 3
   },
   "file_extension": ".py",
   "mimetype": "text/x-python",
   "name": "python",
   "nbconvert_exporter": "python",
   "pygments_lexer": "ipython3",
   "version": "3.7.2"
  }
 },
 "nbformat": 4,
 "nbformat_minor": 2
}
