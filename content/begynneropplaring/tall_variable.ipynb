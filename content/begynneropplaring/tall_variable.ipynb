{
 "cells": [
  {
   "cell_type": "markdown",
   "metadata": {},
   "source": [
    "# Utskrift, tall og variable i Python"
   ]
  },
  {
   "cell_type": "markdown",
   "metadata": {},
   "source": [
    "## Forkunnskaper"
   ]
  },
  {
   "cell_type": "markdown",
   "metadata": {},
   "source": [
    "Før vi begynner å programmere er det greit å si noe om hva vi forventer av kursdeltagerne i ProFag:\n",
    "    Vi forventer egentlig ingen ting annet enn at dere kan grunnleggende matematikk og naturfag og er vant til å bruke en PC (eller Mac). Dessuten at dere har installert Spyder på maskinen deres og vet hvordan dere starter dette programmet. Og en ting til: at dere har lyst til å lære å programmere!\n",
    "    "
   ]
  },
  {
   "cell_type": "markdown",
   "metadata": {},
   "source": [
    "## Hva er programmering og Python?"
   ]
  },
  {
   "cell_type": "markdown",
   "metadata": {},
   "source": [
    "En datamaskin er ganske primitiv, den er bare i stand til å lese en strøm av nuller og enere, tolke\n",
    "denne strømmen og utføre det den blir bedt om, om den er i stand til det. Når vi programmerer gjør vi nettopp det,\n",
    "vi skriver en sekvens av instruksjoner som vi håper kan løse et problem vi er interessert i og lagrer disse\n",
    " i en fil (et dokument). Så kan vi be maskinen lese filen, og om\n",
    "instruksjonene er på et format maskinen forstår vil den gjøre det vi ber den om. Bak kulissene er alt bare\n",
    "strømmer av nuller og enere, men gjennom lag på lag av elektronikk og logikk er det bygd opp et mer abstrakt grensesnitt\n",
    "som er mye lettere for et menneske å forholde seg til. Denne prosessen, <em>det å utarbeide en sekvens av instrukser\n",
    "som en datamaskin kan utføre for å løse et problem vi har, er det vi kaller programmering.</em>\n",
    "\n",
    "Den mest krevende delen av programmering er å komme fram til en løsning av et problem i form av en sekvens av instruksjoner som datamaskinen kan utføre. Når vi har gjort tenkearbeidet rundt dette og kommet fram til instruksjonene, må vi skrive dem inn i en fil som et program. Da må vi velge et programmeringsspråk med klart definerte regler siden datamaskiner i utgangspunkte er lite fleksible. Python er et slikt språk, og er det språket vi skal bruke i ProFag, men det fins svært mange andre språk."
   ]
  },
  {
   "cell_type": "markdown",
   "metadata": {},
   "source": [
    "## Litt om filer og Spyder"
   ]
  },
  {
   "cell_type": "markdown",
   "metadata": {},
   "source": [
    "Vi skal skrive programmer i Python som lagres i filer og så utføres av datamaskinen. Da må vi ha litt orden på hvor\n",
    "vi lagrer filene. Dessuten trenger vi en omgivelse med et hendig brukergrensesnitt der vi kan be maskinen lese et Pythonprogram fra en fil, utføre instruksene (kjøre programmet) og gi oss resultatet, vanligvis i form av en utskrift eller et plott. Omgivelsen vi skal bruke heter Spyder og installeres enklest ved hjelp av en annen omgivelse som heter Anaconda. Både Spyder og Anaconda er programmer."
   ]
  },
  {
   "cell_type": "markdown",
   "metadata": {},
   "source": [
    "### Filer"
   ]
  },
  {
   "cell_type": "markdown",
   "metadata": {},
   "source": [
    "Alle datamaskiner har et filsystem for permanent lagring av informasjon. Filsystemet er organisert hierarkisk i mapper (foldere, «directories» på engelsk). Figuren under viser noen av mappene og en fil på min egen Mac laptop. Jeg kan referere til for eksempel mappen «Documents» som «/Macintosh HD/Users/knutm/Documents» og en av filene som «/Macintosh HD/Users/knutm/Sesjon 1.ipynb». Dette kalles filstien til filen «Sesjon 1.ipynb», altså den fullstendige adressen til filen, med sekvensen av mapper fra toppnivået inkludert."
   ]
  },
  {
   "cell_type": "markdown",
   "metadata": {},
   "source": [
    "![filer](files.png)"
   ]
  },
  {
   "cell_type": "markdown",
   "metadata": {},
   "source": [
    "### Spyder"
   ]
  },
  {
   "cell_type": "markdown",
   "metadata": {},
   "source": [
    "Spyder er en omgivelse der du kan programmere i Python, kjøre programmene dine og se resultatet av kjøringene.\n",
    "Du finner instruksjoner for hvordan du kan installere Spyder et annet sted på disse nettsidene. Spyder har mange elementer, men det viktigste for vår bruk er et vindu der vi kan skrive inn kode. Dette lagres hele tiden i en fil — du kan lese av navnet med filsti helt øverst i vinduet.\n",
    "\n",
    "Vi skal senere se at vi med Python kan skrive resultater ut til en fil. Når du kjører programmet du har skrevet inn i programvinduet kommer det opp en linje som ser ut som\n",
    "\n",
    "`In[1]: runfile('/Users/knutm/.spyder-py3/temp.py', wdir='/Users/knutm/.spyder-py3')` \n",
    "\n",
    "Dette forteller at Python utfører kommandoene i den første fila («temp.py» med full filsti) og lagrer eventuelle resultater som skrives til fil i mappen med filsti gitt etter «wdir=». Både filstier og filnavn kan endres av brukeren."
   ]
  },
  {
   "cell_type": "markdown",
   "metadata": {},
   "source": [
    "## Det første Python-programmet"
   ]
  },
  {
   "cell_type": "markdown",
   "metadata": {},
   "source": [
    "Vi er nå klare til å skrive det første Python-programmet. Det gjør du ved å skrive inn den siste linjen under i programmeringsvinduet i Spyder (de øvrige linjene har Spyder selv satt inn for deg)."
   ]
  },
  {
   "cell_type": "code",
   "execution_count": null,
   "metadata": {},
   "outputs": [],
   "source": [
    "#!/usr/bin/env python3\n",
    "# -*- coding: utf-8 -*-\n",
    "\"\"\"\n",
    "Created on Sun Jun  3 15:30:29 2018\n",
    "\n",
    "@author: knutm\n",
    "\"\"\"\n",
    "\n",
    "print(\"Hello World\")"
   ]
  },
  {
   "cell_type": "markdown",
   "metadata": {},
   "source": [
    "Når du har gjort det trykker du på den grønne pila («run-knappen») øverst i vinduet. Da skal du i resultatvinduet (vanligvis vinduet til høyre) få utskriften."
   ]
  },
  {
   "cell_type": "code",
   "execution_count": null,
   "metadata": {},
   "outputs": [],
   "source": [
    "Python 3.6.3 |Anaconda custom (64-bit)| (default, Oct  6 2017, 12:04:38)\n",
    "Type \"copyright\", \"credits\" or \"license\" for more information.\n",
    "\n",
    "IPython 6.2.1 -- An enhanced Interactive Python.\n",
    "\n",
    "In[1]: runfile('/Users/knutm/test.py', wdir='/Users/knutm')\n",
    "Hello World"
   ]
  },
  {
   "cell_type": "markdown",
   "metadata": {},
   "source": [
    "Legg merke til at under linja som begynner med `In[1]` står det `Hello world`. Dette er resultatet programmet ditt produserte. Kanskje ikke så veldig spennende, men datamaskinen har gjort det du ba den om! "
   ]
  },
  {
   "cell_type": "markdown",
   "metadata": {},
   "source": [
    "### Underveisppgave "
   ]
  },
  {
   "cell_type": "markdown",
   "metadata": {},
   "source": [
    "Før du går videre kan du endre det første programmet ditt. Prøv å endre teksten, fjern en parentes eller en av de to \". Husk at du må trykke på den grønne pila for å få utført programmet ditt."
   ]
  },
  {
   "cell_type": "markdown",
   "metadata": {},
   "source": [
    "## Enkel aritmetikk kombinert med utskrift"
   ]
  },
  {
   "cell_type": "markdown",
   "metadata": {},
   "source": [
    "I det andre programmet skal vi begynne å regne med tall. Fjern programlinjen fra det første programmet og skriv inn\n",
    "koden under i steden. Det er viktig at anførselstegnene er riktige, de skal være som i programmet under."
   ]
  },
  {
   "cell_type": "code",
   "execution_count": null,
   "metadata": {},
   "outputs": [],
   "source": [
    "#!/usr/bin/env python3\n",
    "# -*- coding: utf-8 -*-\n",
    "\"\"\"\n",
    "Created on Sun Jun  3 15:30:29 2018\n",
    "\n",
    "@author: knutm\n",
    "\"\"\"\n",
    "\n",
    "print(\"1+2\")\n",
    "print(1+2)\n",
    "print(\"1+2=\",1+2)"
   ]
  },
  {
   "cell_type": "markdown",
   "metadata": {},
   "source": [
    "Hvis du nå trykker på «run-knappen» skal du i utskriftsvinduet få tre linjer:\n",
    "\n",
    "```\n",
    "1+2  \n",
    "3  \n",
    "1+2 = 3\n",
    "```\n"
   ]
  },
  {
   "cell_type": "markdown",
   "metadata": {},
   "source": [
    "Dette illustrerer forskjellen mellom de to datatypene tekst og heltall. Du skriver inn tekst ved å omslutten den med anførselstegn, mens heltall skrives inn uten anførselstegn. Legg merke til at `print(\"1+2=\",1+2)` skriver ut både en tekst og et heltall."
   ]
  },
  {
   "cell_type": "markdown",
   "metadata": {},
   "source": [
    "### Underveisppgave"
   ]
  },
  {
   "cell_type": "markdown",
   "metadata": {},
   "source": [
    "Gjør endringer i programmet over og se hva som skjer. Prøv å bruke andre matematiske operasjoner."
   ]
  },
  {
   "cell_type": "markdown",
   "metadata": {},
   "source": [
    "## Aritmetiske operasjoner"
   ]
  },
  {
   "cell_type": "markdown",
   "metadata": {},
   "source": [
    "Python har naturlig nok de vanlige aritmetiske operasjonene innebygget. Disse angis ved `+` (addisjon), `-` (subtraksjon), `*` (multiplikasjon) og `/` (divisjon). Du kan også bruke `**` som angir eksponensiering . $\\text{x**y}$ betyr $x^y$.\n",
    "\n",
    "Legg merke til at $3/4$ gir som svar 0.75. Dette kan virke naturlig, men det betyr at en operasjon med to heltall blir et desimaltall, vi ender altså utenfor datatypen heltall selv om vi begynner der. Python har en annen divisjonsoperator som gir heltallig svar, nemlig $//$. For eksempel blir $3//4=0$ (desimaldelen av svaret ignoreres)."
   ]
  },
  {
   "cell_type": "code",
   "execution_count": null,
   "metadata": {},
   "outputs": [],
   "source": [
    "print(2+3*4)\n",
    "print((2+3)*4)\n",
    "print(2+3*4-8/2)"
   ]
  },
  {
   "cell_type": "markdown",
   "metadata": {},
   "source": [
    "### Underveisoppgave"
   ]
  },
  {
   "cell_type": "markdown",
   "metadata": {},
   "source": [
    "Bruk programmet du allerede har skrevet inn og eksperimenter med de ulike aritmetiske operasjonene."
   ]
  },
  {
   "cell_type": "markdown",
   "metadata": {},
   "source": [
    "## Programmering med variable"
   ]
  },
  {
   "cell_type": "markdown",
   "metadata": {},
   "source": [
    "Det blir etterhvert begrensende å skulle gjøre alle beregninger med eksplisitte tall. Som i matematikk kan vi derfor bruke variable når vi programmerer."
   ]
  },
  {
   "cell_type": "code",
   "execution_count": null,
   "metadata": {},
   "outputs": [],
   "source": [
    "a = 2*3\n",
    "b = 4*a\n",
    "print(\"b=\",b)"
   ]
  },
  {
   "cell_type": "markdown",
   "metadata": {},
   "source": [
    "Legg merke til at du ikke kan skrive $4a$, multiplikasjonen må angis eksplisitt."
   ]
  },
  {
   "cell_type": "markdown",
   "metadata": {},
   "source": [
    "### Underveisoppgave"
   ]
  },
  {
   "cell_type": "markdown",
   "metadata": {},
   "source": [
    "Programmer noen formler som involverer de ulike aritmetiske operasjonene. Bruk variable."
   ]
  },
  {
   "cell_type": "markdown",
   "metadata": {},
   "source": [
    "### Programmering av en formel"
   ]
  },
  {
   "cell_type": "markdown",
   "metadata": {},
   "source": [
    "Formler er en sentral del av matematikk og naturvitenskap. Fra mekanikken vet vi at et objekt som beveger seg med konstant aksellerasjon $a$, starthastighet $v_0$ har tilbakelagt en strekning $s$ etter $t$ sekunder, der $s$ er gitt ved\n",
    "$$\n",
    "s = v_0 + 0.5 a t^2.\n",
    "$$\n",
    "La oss se hvordan denne formelen kan programmeres.\n",
    "\n",
    "Bevegelsen er definert ved starthastigheten $v_0$ og aksellerasjonen $a$ — dette utgjør konstanter som vi kan tenke på som inngangsdata. Tiden $t$ vil typisk variere, mens $s$ er resultatet. "
   ]
  },
  {
   "cell_type": "code",
   "execution_count": 4,
   "metadata": {},
   "outputs": [
    {
     "name": "stdout",
     "output_type": "stream",
     "text": [
      "Tilbakelagt strekning etter 7.00 sekunder = 310.35 meter\n"
     ]
    }
   ],
   "source": [
    "# \n",
    "# Programmering av bevegelsesformelen\n",
    "# s = v0 t + 0.5 a t^2 der v0 er startfart, a aksellerasjon og s er tilbakelagt strekning etter t seksunder.\n",
    "#\n",
    "\n",
    "v0 = 10 # Gitt i meter / sekund\n",
    "a = 9.81 # Aksellerasjon gitt i meter / sekund^2\n",
    "\n",
    "# Vi vil vite hvor langt objektet har falt etter 7 sekunder\n",
    "\n",
    "t = 7 # Gitt i sekunder\n",
    "\n",
    "# Vi kan programmere formelen direkte\n",
    "\n",
    "s = v0*t + 0.5*a*t**2 # \n",
    "\n",
    "# Til slutt skriver vi ut resultatet\n",
    "\n",
    "print(\"Tilbakelagt strekning etter %.2f sekunder = %.2f meter\" %(t, s))"
   ]
  },
  {
   "cell_type": "markdown",
   "metadata": {},
   "source": [
    "Her har jeg skrevet inn en god del kommentarer for å gjøre det lett å forstå hva programmet gjør og brukt blanke linjer for å gjøre det lettere å lese programmet. Dette er noe alle erfarer er lurt: Du trenger kanskje ikke kommentarene når du sitter der og programmerer, men det gjør det mye lettere for andre å lese koden din. Og andre inkluderer deg selv når det har gått litt tid!\n",
    "\n",
    "Legg også merke til at linjen med print er litt mer avansert enn før, dette kommer vi tilbake til senere."
   ]
  },
  {
   "cell_type": "markdown",
   "metadata": {},
   "source": [
    "### Underveisoppgave"
   ]
  },
  {
   "cell_type": "markdown",
   "metadata": {},
   "source": [
    "Programmer formelen for løsning av annengradsligningen $a x^2 + b x+ c =0$,\n",
    "$$\n",
    "x = \\frac{-b\\pm\\sqrt{b^2-4ac}}{2a}.\n",
    "$$"
   ]
  },
  {
   "cell_type": "markdown",
   "metadata": {},
   "source": [
    "## NB! Litt mer om variable"
   ]
  },
  {
   "cell_type": "markdown",
   "metadata": {},
   "source": [
    "I matematikk bruker vi variable på litt forskjellige måter uten å tenke så mye over det. Tenk for eksempel over\n",
    "hva variablene betyr i de tre uttrykkene\n",
    "$$\n",
    "f(x) = \\sin x, \\qquad \\sum_{i=1}^n i, \\qquad 3x+ 4=2.\n",
    "$$\n",
    "\n",
    "I programmering er en variabel noe langt mer konkret.\n",
    "\n",
    "*En variabel refererer til en lagerplass i datamaskinen som kan inneholde en verdi av en gitt type.*\n",
    "    \n",
    "For enkelhets skyld kan vi tenke oss at en datamaskin inneholder mange skuffer som kan inneholde en verdi av en gitt type. Med en variabel kan vi sette navn på en slik skuff.\n",
    "\n",
    "Med en slik forståelse kan vi bedre forklare hva som skjer når datamaskinen utfører programmet under som består av det vi kaller to tilordninger:"
   ]
  },
  {
   "cell_type": "code",
   "execution_count": null,
   "metadata": {},
   "outputs": [],
   "source": [
    "a = 2*3\n",
    "b = 4*a"
   ]
  },
  {
   "cell_type": "markdown",
   "metadata": {},
   "source": [
    "Først multipliseres de to heltallene 2 og 3 og resultatet lagres i variabelen (skuffen) med navn 'a'. Deretter hentes verdien i skuffen ved navn 'a' fram igjen, multipliseres med 4 og resultatet lagres i skuffen med navn 'b'.\n",
    "\n",
    "Dette illustrerer det grunnleggende prinsippet for hvordan tilordninger gjennomføres:\n",
    "\n",
    "*En tilordning utføres ved at alle variable på høyre siden av likhetstegnet erstattes med innholdet i de aktuelle variablene, operasjonene på høyre siden utføres på vanlig måte og resultatet lagres i variabelen på venstre side.*"
   ]
  },
  {
   "cell_type": "markdown",
   "metadata": {},
   "source": [
    "### Underveisoppgaver"
   ]
  },
  {
   "cell_type": "markdown",
   "metadata": {},
   "source": [
    "Hva blir resultatet av de to operasjonene"
   ]
  },
  {
   "cell_type": "code",
   "execution_count": null,
   "metadata": {},
   "outputs": [],
   "source": [
    "a = 10\n",
    "a = a + 5"
   ]
  },
  {
   "cell_type": "markdown",
   "metadata": {},
   "source": [
    "Du har to variable ${\\tt a}$ og ${\\tt b}$ som begge innholder tall av samme type. Skriv et program som bytter innholdet i de to variablene."
   ]
  },
  {
   "cell_type": "markdown",
   "metadata": {},
   "source": [
    "## Rekkefølgen på operasjoner og parenteser"
   ]
  },
  {
   "cell_type": "markdown",
   "metadata": {},
   "source": [
    "Python følger vanlige konvensjoner i matematikk når aritmetiske uttrykk skal regnes ut.\n",
    "Dette kan overstyres ved hjelp av parenteser, akkurat som i matematikk. Forskjellen er at i matematikk trenger vi ikke\n",
    "være så nøye, iallfall ikke om det er bare vi selv som skal lese matematikken. En datamaskin er langt mindre fleksibel.\n",
    "Vi minner derfor om reglene for å regne ut lengre uttrykk.\n",
    "\n",
    "Et aritmetisk uttrykk regnes ut ved å gå gjennom uttrykket fra venstre til høyre flere ganger.\n",
    "\n",
    "- Først utføres alle operasjoner inne i parenteser. Nestede parenteser løses opp ved å begynne med det innerste\n",
    "nivået og gjøre bruk av de tre reglene under.\n",
    "- Deretter utføres alle eksponensieringer, i rekkefølge fra venstre mot høyre. Merk at eksponenter regnes ut før\n",
    "grunntallet.\n",
    "- Etter dette utføres alle multiplikasjoner og divisjoner, fra venstre mot høyre.\n",
    "- Til slutt utføres alle addisjoner og subtraksjoner, fra venstre mot høyre.\n",
    "    \n",
    "Under finner du noen eksempler."
   ]
  },
  {
   "cell_type": "markdown",
   "metadata": {},
   "source": [
    "## Underveisoppgave"
   ]
  },
  {
   "cell_type": "markdown",
   "metadata": {},
   "source": [
    "Programmer ulike uttrykk og sjekk at du forstår hvorfor resultatet blir som det blir.\n",
    "\n",
    "Noen eksempler:\n",
    "\n",
    "1. Hva blir `1+2*6/4*8-1`?\n",
    "\n",
    "2. Hvordan programmerer du brøken\n",
    "$\n",
    "\\frac{a+b}{c+d}?\n",
    "$\n",
    "\n",
    "3. Hva blir `2**3**2`?\n"
   ]
  },
  {
   "cell_type": "markdown",
   "metadata": {},
   "source": [
    "## Litt mer om talltyper"
   ]
  },
  {
   "cell_type": "markdown",
   "metadata": {},
   "source": [
    "Vi har tidligere nevnt at Python skiller mellom heltall og desimaltall. I enkle situasjoner trenger vi ikke bry oss\n",
    "så mye om det, men vi kommer raskt i situasjoner der forskjellen betyr noe. For å forstå dette må vi forstå litt bedre hvordan en datamaskin håndterer tall.\n",
    "\n",
    "Vi vet at det  fins ingen grense for hvor mange sifre et heltall kan ha. Samtidig har enhver datamaskin endelige ressurser. Det betyr at det må settes en grense for hvor store heltall vi kan operere med.\n",
    "\n",
    "*En vanlig datamaskin kan bare behandle heltall som ligger i intervallet $-2^{63}$ og $2^{63}-1$.*\n",
    "\n",
    "Nå er Python så hjelpsom at når disse grensene overskrides så slår noen Python-funksjoner inn og redder oss. Det betyr at Python ikke protesterer om vi forsøker å regne ut $3^{4000}$, vi får resultatet eksakt som et tall med mer enn 1900 sifre. Det kan virke imponerende, men før eller siden vil også denne programvaren svikte oss ved at utregningen tar for lang tid eller krever for mye minne, ressursene er og blir begrenset.\n",
    "\n",
    "Situasjonen er mer delikat med desimaltall. Dette kommer av at det ikke fins noen grense for hvor mange sifre et desimaltall kan ha verken til venstre eller høyre for desimalpunktet. Som for heltall kan vi bare representere et endelig antall sifre også for desimaltall. Det betyr at vi både må begrense størrelsen (antall sifre til venstre for desimalpunktet) og antall desimaler (antall sifre til høyre for desimalpunktet).\n",
    "\n",
    "*En vanlig datamaskin regner med omtrent 16 desimale sifre, og desimaltall på datamaskin kalles flyttall.*"
   ]
  },
  {
   "cell_type": "markdown",
   "metadata": {},
   "source": [
    "### Underveisoppgave"
   ]
  },
  {
   "cell_type": "markdown",
   "metadata": {},
   "source": [
    "Skriv et program som regner ut tallene $a=2^{1000}$, $b=3^{1000}$ og $c=b/a$. Forsøk å forklare hva som skjer? (Størrelsen på $c$ er omtrent $10^{176}$)."
   ]
  },
  {
   "cell_type": "markdown",
   "metadata": {},
   "source": [
    "### Avrundingsfeil"
   ]
  },
  {
   "cell_type": "markdown",
   "metadata": {},
   "source": [
    "Det å begrense størrelsen på et desimaltall er ikke så kritisk, men det å begrense antall desimaler viser seg\n",
    "å være mer dramatisk. La oss se på et eksempel."
   ]
  },
  {
   "cell_type": "code",
   "execution_count": null,
   "metadata": {},
   "outputs": [],
   "source": [
    "b = 2**0.5\n",
    "a = b*b\n",
    "\n",
    "print(a)\n",
    "print(a-2)"
   ]
  },
  {
   "cell_type": "markdown",
   "metadata": {},
   "source": [
    "gir utskriften\n",
    "$$\n",
    "2.0000000000000004\\\\\n",
    "4.440892098500626e-16\n",
    "$$"
   ]
  },
  {
   "cell_type": "markdown",
   "metadata": {},
   "source": [
    "Vi ser at $a$ er gitt ved $a=\\bigl(2^{1/2}\\bigr)^2$, med andre ord skal $a$ bli $2$. Vi ser imidlertid at 16. desimal blir 4. Når vi trekker fra 2 ser vi enda tydeligere at $a$ ikke er 2.\n",
    "\n",
    "Feilen kommer omtrent i 16. siffer fordi datamaskinen regner ut kvadratroten av 2 med omtrent 16 riktige sifre. Dette er kanskje ikke så overaskende, men det er også andre finurligheter med flyttall."
   ]
  },
  {
   "cell_type": "markdown",
   "metadata": {},
   "source": [
    "### Rasjonale tall og avrundingsfeil"
   ]
  },
  {
   "cell_type": "markdown",
   "metadata": {},
   "source": [
    "Vi vet at tallet $1/3$ skrevet som desimaltall blir tallet $0.333333\\cdots$ der $\\cdots$ antyder uendelig mange desimaler som alle er $3$. Hvis vi forsøker oss i Python med"
   ]
  },
  {
   "cell_type": "code",
   "execution_count": null,
   "metadata": {},
   "outputs": [],
   "source": [
    "print(1/3)"
   ]
  },
  {
   "cell_type": "markdown",
   "metadata": {},
   "source": [
    "blir resultatet $0.3333333333333333$, altså 16 desimaler som alle er 3. Samtidig vet vi at dette ikke er riktig. Og hvis vi lurer Python til å skrive ut flere sifre med"
   ]
  },
  {
   "cell_type": "code",
   "execution_count": null,
   "metadata": {},
   "outputs": [],
   "source": [
    "print(\"%0.20f\" % (1/3))"
   ]
  },
  {
   "cell_type": "markdown",
   "metadata": {},
   "source": [
    "får vi resultatet $0.33333333333333331483$. Vi ser at etter 3-tallene dukker det opp nye desimaler som ikke er 3.\n",
    "\n",
    "La oss se på et eksempel til. En del rasjonale tall kan representeres eksakt som desimaltall. Et eksempel er $1/10$. Hvis vi skriver 20 desimaler for dette tallet med"
   ]
  },
  {
   "cell_type": "code",
   "execution_count": null,
   "metadata": {},
   "outputs": [],
   "source": [
    "print(\"%0.20f\" % 0.1)"
   ]
  },
  {
   "cell_type": "markdown",
   "metadata": {},
   "source": [
    "får vi svaret  0.10000000000000000555. Dette er overaskende for de fleste fordi vi er så vant til at alle rasjonale tall med nevner som er en potens av 10 kan representeres eksakt med desimaltall.\n",
    "Et siste eksempel er tallet  1/4=0.25. Hvis vi gjør den samme øvelsen med"
   ]
  },
  {
   "cell_type": "code",
   "execution_count": null,
   "metadata": {},
   "outputs": [],
   "source": [
    "print(\"%0.20f\" % (1/4))"
   ]
  },
  {
   "cell_type": "markdown",
   "metadata": {},
   "source": [
    "får vi svaret  0.25000000000000000000, alså ingen feil.\n",
    "\n",
    "Forklaringen på begge de to siste eksemplene er at datamaskinen representerer og regner med tall i 2-tallsystemet. I dette siffersystemet er de eneste rasjonale tallene som kan representeres eksakt de som har en potens av 2 i nevner.\n",
    "De eneste desimaltallene som kan representeres eksakt i datamaskinenen er med andre ord rasjonale tall på formen $m/2^n$\n",
    "  der  $m$\n",
    "  er et heltall og  $n$\n",
    "  er et positivt heltall som ikke er for stort.\n",
    "Tallet  1/10\n",
    "  er ikke på denne formen, det har også en faktor 5 i nevneren, og kan derfor ikke representeres eksakt i datamaskinen."
   ]
  },
  {
   "cell_type": "markdown",
   "metadata": {},
   "source": [
    "### Underveisoppgave"
   ]
  },
  {
   "cell_type": "markdown",
   "metadata": {},
   "source": [
    "Det går an å vise at\n",
    "$$\n",
    "0.1 = 1/16 + 1/32 + 1/256 + 1/512 + 1/4096 + 1/8192 + \\cdots\n",
    "$$\n",
    "Dette er representasjonen av $0.1$ i totall-systemet, den såkalte binære representasjonen av tallet. Vi skriver det som regel kortere som\n",
    "$$\n",
    "0.1 = 0.000110011001100110011\\cdots_2\n",
    "$$\n",
    "Bruk uttrykket over til å regne ut seks tilnærminger til $0.1$ med økende nøyaktighet."
   ]
  },
  {
   "cell_type": "markdown",
   "metadata": {},
   "source": [
    "### Begrensninger og muligheter"
   ]
  },
  {
   "cell_type": "markdown",
   "metadata": {},
   "source": [
    "Datamaskinen ble designet spesielt for å være en regnemaskin, og dagens maskiner gjør ikke skam på dette. En vanlig PC kan utføre mer enn $10^{12}$ aritmetiske operasjoner i sekundet. Dette gir uante muligheter, ikke minst helt andre løsningsmetoder for mange matematikkproblemer enn de tradisjonelle basert på papir og blyant. Samtidig har vi også sett at datamaskinen har grunnleggende begrensninger, særlig når den skal håndtere reelle tall (desimaltall). Avrundingsfeil kan få katastrofale følger fordi de kan forurense en sekvens av beregninger slik at alle sifre i resultatet blir feil. I utvikling og bruk av numeriske beregningsmetoder står det derfor sentralt å forsøke å estimere effekten av avrundingsfeil og andre feilkilder.\n",
    "\n",
    "Til slutt er det viktig å understreke at datamaskinen ikke tenker, den regner. Det betyr at det er vi mennesker som må ta oss av tenkearbeidet. Det betyr at matematisk tenkesett er minst like viktig som før, ikke minst for å utvikle beregningsmetoder og analysere dem."
   ]
  }
 ],
 "metadata": {
  "kernelspec": {
   "display_name": "Python 3",
   "language": "python",
   "name": "python3"
  },
  "language_info": {
   "codemirror_mode": {
    "name": "ipython",
    "version": 3
   },
   "file_extension": ".py",
   "mimetype": "text/x-python",
   "name": "python",
   "nbconvert_exporter": "python",
   "pygments_lexer": "ipython3",
   "version": "3.7.2"
  }
 },
 "nbformat": 4,
 "nbformat_minor": 2
}
