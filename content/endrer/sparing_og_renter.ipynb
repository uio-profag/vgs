{
 "cells": [
  {
   "cell_type": "markdown",
   "metadata": {
    "slideshow": {
     "slide_type": "slide"
    }
   },
   "source": [
    "# Sparing og renter"
   ]
  },
  {
   "cell_type": "markdown",
   "metadata": {
    "slideshow": {
     "slide_type": "skip"
    }
   },
   "source": [
    "Sparing og lån fører til beregninger som hver og en er ganske enkle, men som blir kjedelige å gjennomføre manuelt om man skal følge en konto over tid. Det er en repetetiv øvelse. I denne økta skal vi begynne med enkel sparing, og så skal vi ser hvor kompliserte situasjoner vi klarer å beskrive med penn og papir og med programmering. Vi kommer nok til å se at alle forsøk på å være matematisk lur går i knas så fort Norges Bank har rentemøte. "
   ]
  },
  {
   "cell_type": "code",
   "execution_count": 1,
   "metadata": {
    "slideshow": {
     "slide_type": "slide"
    }
   },
   "outputs": [],
   "source": [
    "# Demo-vindu +, -, *, / i løkke "
   ]
  },
  {
   "cell_type": "markdown",
   "metadata": {
    "slideshow": {
     "slide_type": "skip"
    }
   },
   "source": [
    "## Kjapp introduksjon/repetisjon av while-løkker\n",
    "\n",
    "Når vi skal regne på spaing og renter, kan det fort oppstå situasjoner der vi ikke helt vet hvor lenge vi vi kjøre en løkke. Når vi bruker en for-løkke er det bestemt på forhånd hvor mange ganger løkka kan gå. Men om vi sparer til bil, og ikke vet hvor lang sparing som skal til, kan det hende at en while-løkke er tingen. En while løkke er en *tilstandsløkke*. Det vil si at den går så lenge en eller annen tilstand er oppfylt."
   ]
  },
  {
   "cell_type": "code",
   "execution_count": 9,
   "metadata": {
    "slideshow": {
     "slide_type": "slide"
    }
   },
   "outputs": [
    {
     "name": "stdout",
     "output_type": "stream",
     "text": [
      "2\n",
      "3\n",
      "4\n",
      "5\n",
      "6\n",
      "7\n",
      "8\n",
      "9\n",
      "10\n",
      "Det tok 234 runder i løkka\n"
     ]
    }
   ],
   "source": [
    "x = 1\n",
    "while x < 10:\n",
    "    x += 1\n",
    "    print(x)\n",
    "\n",
    "y = 0.1\n",
    "counter = 0\n",
    "while y < 100:\n",
    "    y = y*1.03\n",
    "    counter += 1\n",
    "print(\"Det tok\", counter, \"runder i løkka\")"
   ]
  },
  {
   "cell_type": "markdown",
   "metadata": {
    "slideshow": {
     "slide_type": "skip"
    }
   },
   "source": [
    "Formelt kan vi si at det skal stå et boolsk uttrykk til høyre for `while`:\n",
    "\n",
    "```python\n",
    "while <kriterium>: \n",
    "    gjør noe\n",
    "```"
   ]
  },
  {
   "cell_type": "markdown",
   "metadata": {
    "slideshow": {
     "slide_type": "slide"
    }
   },
   "source": [
    "---\n",
    "### Underveisoppgave\n",
    "I hvilke av følgende tilfeller passer det med en for-løkke, og i hvilke passer det med en while-løkke?\n",
    "\n",
    "- Pensjonssparing\n",
    "- Spare til bil\n",
    "- Lesing av fil\n",
    "- Gjennomgang av liste eller array\n",
    "---"
   ]
  },
  {
   "cell_type": "markdown",
   "metadata": {
    "slideshow": {
     "slide_type": "slide"
    }
   },
   "source": [
    "---\n",
    "\n",
    "### Underveisoppgave: forrenting\n",
    "Kari har 100 000 kroner på sparekontoen, som hun har tjent på sommerjobber de siste årene. Hun planlegger å spare disse pengene i banken for å få råd til leielighet en dag. For å få råd til leielighet trenger hun 300 000 kroner i egenkapital. \n",
    "\n",
    "**a)** Med en rente på 3 %, virker dette som en god plan?"
   ]
  },
  {
   "cell_type": "markdown",
   "metadata": {
    "slideshow": {
     "slide_type": "fragment"
    }
   },
   "source": [
    "**b)** Løs denne oppgaven med programmering\n",
    "\n",
    "---"
   ]
  },
  {
   "cell_type": "code",
   "execution_count": 10,
   "metadata": {
    "slideshow": {
     "slide_type": "slide"
    }
   },
   "outputs": [],
   "source": [
    "# Live-programmering av forrenting 100 000 kroner med 3 % rente, når blir det 300 000?"
   ]
  },
  {
   "cell_type": "markdown",
   "metadata": {
    "slideshow": {
     "slide_type": "skip"
    }
   },
   "source": [
    "Denne oppgaven bør gå greit. Vi setter opp likningen for forrenting\n",
    "\n",
    "$$\n",
    "f(n) = f_0 \\cdot 1.03^n\n",
    "$$\n",
    "\n",
    "Så kan vi ta fram kalkulatoren og prøve oss fram. Eller kanskje enda bedre, bruke solve i geogebra. \n",
    "`Intersect(f, y=3)`, og få svaret til å bli omtrent 37 år. \n",
    "\n",
    "Men hva er da egentlig rente? Vel, det er jo bare en regel som sier at etter så og så lang tid, så ganges pengene du har med et eller annet tall. Altså:\n",
    "\n",
    "$$\n",
    "x_{n+1} = r x_n\n",
    "$$\n",
    "\n",
    "Og vi vet at om $r$ er en konstant, så kommer løsningen av denne likningen til å være \n",
    "\n",
    "$$\n",
    "x_n = C r^n\n",
    "$$\n",
    "\n",
    "Og hvis vi skal kunne spørre for hvilken $n$ får vi en bestemt sum, så må vi på videregående for å lære logaritmer. \n",
    "\n",
    "Eller, vi kan lage oss en løkke:"
   ]
  },
  {
   "cell_type": "code",
   "execution_count": 11,
   "metadata": {
    "slideshow": {
     "slide_type": "slide"
    }
   },
   "outputs": [
    {
     "name": "stdout",
     "output_type": "stream",
     "text": [
      "Det er nok penger etter 38 år.\n",
      "Da er det 307478.35 kroner på konto\n"
     ]
    }
   ],
   "source": [
    "x = 100000\n",
    "rente = 3\n",
    "vekstfaktor = 1 + rente/100\n",
    "tid = 0\n",
    "while x < 300000:\n",
    "    x = x * vekstfaktor\n",
    "    tid += 1  \n",
    "    \n",
    "print(\"Det er nok penger etter\", tid, \"år.\")\n",
    "print(\"Da er det\", round(x, 2), \"kroner på konto\")"
   ]
  },
  {
   "cell_type": "markdown",
   "metadata": {
    "slideshow": {
     "slide_type": "skip"
    }
   },
   "source": [
    "Så vel så bra, men det er en dårlig plan for Kari. Problemet er at hun ikke har nok penger, og hun trenger nok derfor å spare mer. Men hvordan regner vi på det? \n",
    "\n",
    "Dette er for eksempel noe bankene må gjøre hele tiden. De ganger saldoen vår med et tall fra tid til annen, men i tillegg så legger de på saldoen dersom vi setter inn penger. \n",
    "\n",
    "Kari er 18 år gammel og sparer til bolig. Hun har 100 000 kroner på konto fra tidligere sommerjobber, og sparer nå 15000 kroner per år. Hun trenger å spare 300 000 kroner for å ha nok egenkapital til en leilighet som koster 2 millioner kroner. Vi kan legge til grunn en rente på 3 %. Er dette en god plan?\n",
    "\n",
    "Vi har altså å gjøre med en ny likning\n",
    "\n",
    "$$\n",
    "x_{n+1} = 1.03 \\cdot x_n + 15000\n",
    "$$"
   ]
  },
  {
   "cell_type": "markdown",
   "metadata": {
    "slideshow": {
     "slide_type": "slide"
    }
   },
   "source": [
    "---\n",
    "\n",
    "### Underveisoppgave: Fast sparing med fast rente\n",
    "Kari sparer med fast rente og fast sparebeløp slik at\n",
    "\n",
    "$$\n",
    "x_{n+1} = 1.03 \\cdot x_n + 15000\n",
    "$$\n",
    "\n",
    "$$\n",
    "x_0 = 100000\n",
    "$$\n",
    "\n",
    "Hun trenger en egenkapital på kr 300000.\n",
    "\n",
    "**a)** Hvor lenge må hun spare før hun får råd til bolig?"
   ]
  },
  {
   "cell_type": "markdown",
   "metadata": {
    "slideshow": {
     "slide_type": "slide"
    }
   },
   "source": [
    "Vanligvis setter man sparebeløpet for å rekke å ha penger i tide\n",
    "\n",
    "**b)** Kari er 18 år gammel og planlegger å ha råd til bolig når hun er ferdig med å studere, altså når hun er 24 år. Hvor mye må hun spare per år for å rekke dette?\n",
    "\n",
    "---"
   ]
  },
  {
   "cell_type": "code",
   "execution_count": 7,
   "metadata": {
    "scrolled": false,
    "slideshow": {
     "slide_type": "slide"
    }
   },
   "outputs": [
    {
     "name": "stdout",
     "output_type": "stream",
     "text": [
      "Tid: 6 år, saldo: 300003.2336225561 sparerate:  27921\n"
     ]
    }
   ],
   "source": [
    "# Løsningsforslag for oppgave b)\n",
    "rente = 3 # i prosent\n",
    "vekstfaktor = 1 + rente/100\n",
    "sparemål = 300000\n",
    "\n",
    "sparerate = 15000\n",
    "saldo = 100000\n",
    "\n",
    "while saldo < sparemål:\n",
    "    saldo = 100000\n",
    "    tid = 0\n",
    "    for i in range(6):\n",
    "        saldo = saldo * vekstfaktor + sparerate\n",
    "        tid += 1\n",
    "    sparerate += 1\n",
    "    \n",
    "print(\"Tid:\", tid, \"år, saldo:\", saldo, \"sparerate: \", sparerate)\n",
    "    \n",
    "    "
   ]
  },
  {
   "cell_type": "markdown",
   "metadata": {
    "slideshow": {
     "slide_type": "slide"
    }
   },
   "source": [
    "Vi kan også her trylle fram en løsning om vi har vært på universitetet og regnet litt:\n",
    "\n",
    "$$\n",
    "x_n = 600000\\cdot 1.03^n - 500000\n",
    "$$\n",
    "\n",
    "Og derifra kan vi regne ut nøyaktig hvor lang tid det tar å spare. "
   ]
  },
  {
   "cell_type": "markdown",
   "metadata": {
    "slideshow": {
     "slide_type": "skip"
    }
   },
   "source": [
    "Men dette kan vi ikke gjøre på ungdomsskolen, og jeg måtte åpne opp boka til Tom Lindstrøm fra mattekurset her på blindern for å løse den likningen. Vi kan jo mye heller bare programmere det.\n",
    "\n",
    "Det er overraskende at noe så enkelt som fast sparing med fast rente kan føre oss til universitetsmatematikken. Men slik er det altså. Heldigvis kan programmering ta dette til ungdomsskolen. Og ikke nok med det. Når vi først er der at vi skjønner hvordan dette kan programmeres, så kan vi begynne å la renta variere. For alle forsøk på spissfindig matematikk for å løse spareberegninger går i vasken så fort Norges Bank har rentemøte. "
   ]
  },
  {
   "cell_type": "code",
   "execution_count": 9,
   "metadata": {
    "slideshow": {
     "slide_type": "skip"
    }
   },
   "outputs": [
    {
     "data": {
      "image/png": "[encoded data removed]",
      "text/plain": [
       "<Figure size 432x288 with 1 Axes>"
      ]
     },
     "metadata": {
      "needs_background": "light"
     },
     "output_type": "display_data"
    }
   ],
   "source": [
    "from pylab import *\n",
    "\n",
    "x = 100000\n",
    "rente = 3 # 3 %, fint for elevene å få repetert hva % betyr\n",
    "vekstfaktor = 1 + rente/100\n",
    "sparing = 15000\n",
    "tid = 0\n",
    "\n",
    "saldoer = []\n",
    "tider = []\n",
    "\n",
    "while x < 300000:\n",
    "    x = x * vekstfaktor + sparing\n",
    "    tid += 1\n",
    "    saldoer.append(x)\n",
    "    tider.append(tid)\n",
    "    \n",
    "plot(tider, saldoer, label='numerisk')\n",
    "\n",
    "# For ordens skyld kan vi også plotte den analytiske løsningen fra hatten\n",
    "n = array(range(0, 20))\n",
    "y = 600000*1.03**n - 500000\n",
    "plot(n, y, \"--\", label='analytisk')\n",
    "legend()\n",
    "show()"
   ]
  },
  {
   "cell_type": "markdown",
   "metadata": {
    "slideshow": {
     "slide_type": "skip"
    }
   },
   "source": [
    "## Reelle historiske rentedata\n",
    "\n",
    "Vi har laget en fil, [innskuddsrente.txt](innskuddsrente.txt), som inneholder gjennomsnittlig innskuddrente for forbrukere i norske banker siden 1980. Dataene er hentet fra SSB. Vi har lagt ved et eksempel på hvordan man henter disse dataene fra SSB nederst på siden. \n",
    "\n",
    "Men la oss nå for enkelhets skyld bruke disse dataene til å simulere utviklingen i verdien til en konto med og uten sparing fra 1980 og fram til i dag. \n",
    "\n",
    "Nå kan vi bare glemme å regne på dette analytisk. Dessuten er det slik som dette verden faktisk ser ut. Det er helt urealistisk å anta at det er fast rente på sparing over mange år. \n",
    "\n",
    "Vi begynner med å laste inn og plotte renten bare slik at vi ser at dataene er lastet inn riktig. "
   ]
  },
  {
   "cell_type": "markdown",
   "metadata": {
    "slideshow": {
     "slide_type": "slide"
    }
   },
   "source": [
    "Last ned eller kopiér filen `innskuddsrente.txt` fra **bit.ly/2VR9VKw**"
   ]
  },
  {
   "cell_type": "code",
   "execution_count": 10,
   "metadata": {
    "slideshow": {
     "slide_type": "fragment"
    }
   },
   "outputs": [
    {
     "data": {
      "text/plain": [
       "[<matplotlib.lines.Line2D at 0x1160ce470>]"
      ]
     },
     "execution_count": 10,
     "metadata": {},
     "output_type": "execute_result"
    },
    {
     "data": {
      "image/png": "[encoded data removed]",
      "text/plain": [
       "<Figure size 432x288 with 1 Axes>"
      ]
     },
     "metadata": {
      "needs_background": "light"
     },
     "output_type": "display_data"
    }
   ],
   "source": [
    "# Innlasting av innskuddsrenter fra tekstfil\n",
    "rentedata = loadtxt(\"innskuddsrente.txt\")\n",
    "år = rentedata[:,0]\n",
    "rente = rentedata[:,1]\n",
    "\n",
    "plot(år, rente)"
   ]
  },
  {
   "cell_type": "code",
   "execution_count": 11,
   "metadata": {
    "scrolled": false,
    "slideshow": {
     "slide_type": "slide"
    }
   },
   "outputs": [
    {
     "data": {
      "text/plain": [
       "Text(0,0.5,'Rente, %')"
      ]
     },
     "execution_count": 11,
     "metadata": {},
     "output_type": "execute_result"
    },
    {
     "data": {
      "image/png": "[encoded data removed]",
      "text/plain": [
       "<Figure size 432x288 with 1 Axes>"
      ]
     },
     "metadata": {
      "needs_background": "light"
     },
     "output_type": "display_data"
    }
   ],
   "source": [
    "rentedata = loadtxt(\"innskuddsrente.txt\")\n",
    "år = rentedata[:,0]\n",
    "rente = rentedata[:,1]\n",
    "\n",
    "plot(år, rente)\n",
    "xlabel('År')\n",
    "ylabel('Rente, %')"
   ]
  },
  {
   "cell_type": "markdown",
   "metadata": {
    "slideshow": {
     "slide_type": "slide"
    }
   },
   "source": [
    "---\n",
    "\n",
    "## Underveisoppgave\n",
    "Vi skal nå bruke reelle historiske rentedata til å simulere hvordan spareplanene til Kari ville gått fra 1980 og fram til i dag. \n",
    "\n",
    "**a)** Lag et program som simulerer hvordan Kari sin spareplan: 100000 startkapital, 15000 kr/år ville fungert om hun startet i 1980.\n",
    "\n",
    "**b)** Prøv denne spareplanen for forskjellige starttidspunkter fra 1980 og fram til i dag\n",
    "\n",
    "---"
   ]
  },
  {
   "cell_type": "code",
   "execution_count": 12,
   "metadata": {
    "slideshow": {
     "slide_type": "slide"
    }
   },
   "outputs": [],
   "source": [
    "# Live-programmering av sparing med reelle data"
   ]
  },
  {
   "cell_type": "code",
   "execution_count": 13,
   "metadata": {
    "slideshow": {
     "slide_type": "slide"
    }
   },
   "outputs": [
    {
     "data": {
      "text/plain": [
       "[<matplotlib.lines.Line2D at 0x1161f3be0>]"
      ]
     },
     "execution_count": 13,
     "metadata": {},
     "output_type": "execute_result"
    },
    {
     "data": {
      "image/png": "[encoded data removed]",
      "text/plain": [
       "<Figure size 432x288 with 1 Axes>"
      ]
     },
     "metadata": {
      "needs_background": "light"
     },
     "output_type": "display_data"
    }
   ],
   "source": [
    "saldo = 100000\n",
    "sparerate = 15000\n",
    "saldoliste = []\n",
    "årliste = []\n",
    "i = 0\n",
    "\n",
    "while saldo < 300000:\n",
    "    vekstfaktor = 1 + rente[i]/100\n",
    "    saldo = saldo * vekstfaktor + sparerate\n",
    "    saldoliste.append(saldo)\n",
    "    årliste.append(år[i])\n",
    "    i+=1\n",
    "\n",
    "plot(årliste, saldoliste)"
   ]
  },
  {
   "cell_type": "markdown",
   "metadata": {
    "slideshow": {
     "slide_type": "skip"
    }
   },
   "source": [
    "Nå er det endelig skikkelig gøy. Her kan man eksperimentere i vei, og se på hva som skal til for å kunne spare det man trenger. "
   ]
  },
  {
   "cell_type": "markdown",
   "metadata": {
    "slideshow": {
     "slide_type": "slide"
    }
   },
   "source": [
    "# Hvor ellers finner vi vekstfaktorer?"
   ]
  },
  {
   "cell_type": "markdown",
   "metadata": {
    "slideshow": {
     "slide_type": "fragment"
    }
   },
   "source": [
    "- Bakterievekst\n",
    "- Befolkningsvekst\n",
    "- Celledeling\n",
    "- Rusmidler\n",
    "- Kjernereaksjoner\n",
    "- Makroøkonomi\n",
    "- Pyramidespill\n",
    "- etc.\n",
    "\n",
    "```python\n",
    "for ...\n",
    "    x[n+1] = x[n] * vekstfaktor + påslag\n",
    "````"
   ]
  },
  {
   "cell_type": "markdown",
   "metadata": {
    "slideshow": {
     "slide_type": "skip"
    }
   },
   "source": [
    "## Hente data med API-kall fra SSB\n",
    "\n",
    "**ADVARSEL** *Dette er for spesielt interesserte. Vi legger ut datasett for våre kurs på nettsidene våre slik at de kan brukes uten å gjøre spørringer mot SSB sin database* \n",
    "\n",
    "Vi kan hente data fra SSB for å studere dette. Det innebærer noen besvergelser, men man kan eksportere dataene som "
   ]
  },
  {
   "cell_type": "code",
   "execution_count": 8,
   "metadata": {
    "slideshow": {
     "slide_type": "skip"
    }
   },
   "outputs": [
    {
     "data": {
      "image/png": "[encoded data removed]",
      "text/plain": [
       "<Figure size 432x288 with 1 Axes>"
      ]
     },
     "metadata": {
      "needs_background": "light"
     },
     "output_type": "display_data"
    }
   ],
   "source": [
    "# Post spørring og få Pandas dataframe i retur\n",
    "from pylab import *\n",
    "from pyjstat import pyjstat\n",
    "import requests\n",
    "import json\n",
    "\n",
    "# Dette er adressen til en tabell hos SSB. Det svarer til en nettside med data\n",
    "# f. eks. https://www.ssb.no/statbank/table/08175/\n",
    "POST_URL = 'https://data.ssb.no/api/v0/no/table/08175'\n",
    "\n",
    "# API spørring. Dette er en klump med tekst som sier hvilke data vi vil hente \n",
    "# fra tabellen\n",
    "payload = json.loads(\n",
    "    \"\"\"\n",
    "    {\"query\": [\n",
    "    {\n",
    "      \"code\": \"ContentsCode\",\n",
    "      \"selection\": {\n",
    "        \"filter\": \"item\",\n",
    "        \"values\": [\n",
    "          \"Bankinnskuddrente\"\n",
    "        ]\n",
    "      }\n",
    "    },\n",
    "    {\n",
    "      \"code\": \"Tid\",\n",
    "      \"selection\": {\n",
    "        \"filter\": \"item\",\n",
    "        \"values\": [\n",
    "        ]\n",
    "      }\n",
    "    }\n",
    "  ],\n",
    "  \"response\": {\n",
    "    \"format\": \"json-stat\"\n",
    "  }\n",
    "}\n",
    "\"\"\")\n",
    "# Linja under legger til årstallene vi vil hente data for. \n",
    "# Vi gjør det her bare fordi det er lettere å lage mange tall\n",
    "# med programmering enn å skrive opp alle i strengen over.\n",
    "payload['query'][1]['selection']['values'] = list(range(1980, 2018))\n",
    "resultat = requests.post(POST_URL, json = payload)\n",
    "\n",
    "dataset = pyjstat.Dataset.read(resultat.text)\n",
    "df = dataset.write('dataframe')\n",
    "plot(array(df['år'], dtype=float64), df['value'])\n",
    "\n",
    "with open(\"innskuddsrente.txt\", 'w') as ofile:\n",
    "    ofile.write(\"# år rente \\n\")\n",
    "    for year, value in zip(df['år'], df['value']):\n",
    "        ofile.write(str(year) + \" \" +  str(value) + \"\\n\")\n",
    "    "
   ]
  },
  {
   "cell_type": "markdown",
   "metadata": {
    "slideshow": {
     "slide_type": "skip"
    }
   },
   "source": [
    "## Hente data fra Norges Bank\n",
    "\n",
    "Vi kunne også sett på hvor mye det ville lønnet seg å investere i forskjellige typer finansielle instrumenter de siste årene. Da kan det være lurt å hente datasett utenfra. Det er vanligvis et sett med besvergelser som må på plass for at man skal få ut slike data. Men så kan de behandles som ethvert annet datasett. "
   ]
  },
  {
   "cell_type": "code",
   "execution_count": 9,
   "metadata": {
    "slideshow": {
     "slide_type": "skip"
    }
   },
   "outputs": [
    {
     "name": "stdout",
     "output_type": "stream",
     "text": [
      "FREQ             FREQ                                                Frequency\n",
      "                 A                                                      Annual\n",
      "                 B                                                    Business\n",
      "                 M                                                     Monthly\n",
      "INSTRUMENT_TYPE  INSTRUMENT_TYPE                               Instrument Type\n",
      "                 GBON                                         Government bonds\n",
      "                 KPRA                                          Key policy rate\n",
      "                 NOWA                                                     NOWA\n",
      "                 TBIL                                           Treasury bills\n",
      "TENOR            TENOR                                                   Tenor\n",
      "                 10Y                                                  10 years\n",
      "                 12M                                                 12 months\n",
      "                 3M                                                   3 months\n",
      "                 3Y                                                    3 years\n",
      "                 5Y                                                    5 years\n",
      "                 6M                                                   6 months\n",
      "                 9M                                                   9 months\n",
      "                 OL                                     Overnight lending rate\n",
      "                 ON                                                  Overnight\n",
      "                 RR                                               Reserve rate\n",
      "                 SD                                         Sight deposit rate\n",
      "                 SP                                                       Spot\n",
      "UNIT_MEASURE     UNIT_MEASURE                                  Unit of Measure\n",
      "                 P                                                       Price\n",
      "                 R                                                        Rate\n",
      "                 V                                                      Volume\n",
      "OBS_STATUS       OBS_STATUS                                 Observation Status\n",
      "                 A                                                Normal value\n",
      "                 E                                                   Estimated\n",
      "                 T                                                      Traded\n",
      "COLLECTION       COLLECTION                               Collection Indicator\n",
      "                 A                  Average of observations through period (A)\n",
      "                 C                             ECB concertation time 14:15 CET\n",
      "                 E                                                  End of day\n",
      "Name: name, dtype: object\n"
     ]
    },
    {
     "data": {
      "text/plain": [
       "<matplotlib.axes._subplots.AxesSubplot at 0x121be8748>"
      ]
     },
     "execution_count": 9,
     "metadata": {},
     "output_type": "execute_result"
    },
    {
     "data": {
      "image/png": "[encoded data removed]",
      "text/plain": [
       "<Figure size 432x288 with 1 Axes>"
      ]
     },
     "metadata": {
      "needs_background": "light"
     },
     "output_type": "display_data"
    },
    {
     "data": {
      "image/png": "[encoded data removed]",
      "text/plain": [
       "<Figure size 432x288 with 1 Axes>"
      ]
     },
     "metadata": {
      "needs_background": "light"
     },
     "output_type": "display_data"
    }
   ],
   "source": [
    "import pandasdmx\n",
    "from pandasdmx import Request\n",
    "\n",
    "nbank = Request('NB')\n",
    "\n",
    "#print(nbank)\n",
    "\n",
    "response = nbank.dataflow('IR')\n",
    "response.dataflow.IR.structure(request=True, target_only=False)\n",
    "print(response.write().codelist['name'])\n",
    "\n",
    "\n",
    "response = nbank.data('IR', key={\"FREQ\": \"B\", \n",
    "                             \"INSTRUMENT_TYPE\": \"GBON\", \n",
    "                             \"TENOR\": \"3Y+5Y+10Y\",}, \n",
    "                      params={\"startPeriod\": \"1990\"})\n",
    "\n",
    "data = response.write(s for s in response.data.series)\n",
    "data.plot()\n",
    "\n",
    "response = nbank.data('IR', key={\"FREQ\": \"B\", \n",
    "                             \"INSTRUMENT_TYPE\": \"NOWA\", \n",
    "                             \"TENOR\": \"ON\",\n",
    "                            \"UNIT_MEASURE\":\"R\"}, \n",
    "                      params={\"startPeriod\": \"1990\"})\n",
    "\n",
    "data = response.write(s for s in response.data.series)\n",
    "data.plot()\n"
   ]
  }
 ],
 "metadata": {
  "celltoolbar": "Slideshow",
  "kernelspec": {
   "display_name": "Python 3",
   "language": "python",
   "name": "python3"
  },
  "language_info": {
   "codemirror_mode": {
    "name": "ipython",
    "version": 3
   },
   "file_extension": ".py",
   "mimetype": "text/x-python",
   "name": "python",
   "nbconvert_exporter": "python",
   "pygments_lexer": "ipython3",
   "version": "3.7.2"
  }
 },
 "nbformat": 4,
 "nbformat_minor": 2
}
