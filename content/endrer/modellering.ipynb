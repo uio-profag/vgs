{
 "cells": [
  {
   "cell_type": "raw",
   "metadata": {},
   "source": [
    "---\n",
    "layout: page\n",
    "title: Modellering\n",
    "---"
   ]
  },
  {
   "cell_type": "markdown",
   "metadata": {},
   "source": [
    "Modellering er en kreativ prosess som styrker samarbeid, problemløsningsevne, kritisk tenkning og forståelse. Det er en sammensatt prosess som ikke bare handler om å kode, men om å dele opp større problemer i delproblemer, analysere disse delene og utvikle løsningsstrategier for problemene. Det handler om å utvikle og konstruere modeller for å forstå visse sider ved virkeligheten. Og det handler om å forstå styrkene og begrensningene ved disse modellene. Modellering og simuleringer gir elevene mulighet til å studere virkelighetsnære og komplekse problemer. Programmering er i den forbindelse spesielt viktig når vi møter problemer som er vanskelige eller helt umulige å løse med vanlige eksperimenter eller analytisk matematikk.\n",
    "\n",
    "## Pendelforsøk\n",
    "Et eksempel på nyttige simuleringer er i forbindelse med et klassisk forsøk der en skal prøve å finne ut hva som avgjør svingetida til en pendel. Her kan en studere hvorvidt lengden på snora, massen til kula eller slippvinkelen har noe effekt. Dette kan en gjøre med eksperimenter. Men en kan også sammenlikne med simuleringer for å få en dypere innsikt i hvilke feilkider en eventuelt har, i tillegg til at en kan studere effekten luftmotstand og gravitasjon har, noe som vanskelig lar seg gjøre på en vanlig naturfagslab!\n",
    "\n",
    "Programmet nedenfor er et slikt \"pendellaboratorium\" som elever kan leke seg med, modifisere og endre som de vil. Simuleringer er både sikre, kostnadseffektive og tidsbesparende, så de kan gi mye når elever og naturvitere skal utforske ulike fenomener. Simuleringer er nå en naturlig del av naturvitenskapelige metode, og det kan derfor være en fordel at elevene får et innblikk i dette og kan bruke og/eller lage simuleringer selv."
   ]
  },
  {
   "cell_type": "code",
   "execution_count": 1,
   "metadata": {},
   "outputs": [],
   "source": [
    "from pylab import *\n",
    "import pygame\n",
    "\n",
    "# Variabler\n",
    "g = 9.81          # Tyngdeakselerasjon\n",
    "L = 0.5          # Lengden av snora i meter\n",
    "k = 0           # luftmotstandskoeffisient\n",
    "\n",
    "# Tidssteg\n",
    "N = 1000\n",
    "a = 0\n",
    "b = 1\n",
    "dt = (b-a)/N    \n",
    "\n",
    "# Slippvinkel og vinkelfart\n",
    "theta = pi/3\n",
    "thprev = theta\n",
    "w = 0               # Vinkelfart\n",
    "wprev = 0\n",
    "\n",
    "# Posisjonsinitiering\n",
    "pos = zeros(2)\n",
    "x = L*sin(theta)\n",
    "y = -L*cos(theta)\n",
    "\n",
    "# Setter opp Pygame\n",
    "pygame.init()\n",
    "vindux = 640\n",
    "vinduy = 640\n",
    "vindu = pygame.display.set_mode((vindux,vinduy))\n",
    "pygame.display.set_caption(\"Pendel\")\n",
    "HVIT = (255,255,255)\n",
    "SORT = (0,0,0)\n",
    "vindu.fill(HVIT)\n",
    "\n",
    "# Tegn pendel\n",
    "vx2 =  int(vindux/2)        # x-posisjon til pendelen i vinduet\n",
    "vy2 = int(vinduy/2)         # y-posisjon til pendelen i vinduet\n",
    "pygame.draw.line(vindu,SORT,(vx2,1),(int(round(vx2*x+vx2)),-int(round(vinduy*y))))\n",
    "pygame.draw.circle(vindu,SORT,(int(round(vx2*x+vx2)),-int(round(vinduy*y))),15)\n",
    "pygame.display.update()\n",
    "\n",
    "i = 0\n",
    "run = True\n",
    "while run:\n",
    "    vindu.fill(HVIT)\n",
    "\n",
    "    w = wprev - dt*g/L*sin(theta) - dt*k*wprev\n",
    "    theta = thprev + dt*w\n",
    "\n",
    "    thprev = theta\n",
    "    wprev = w\n",
    "\n",
    "    x = L*sin(theta)\n",
    "    y = -L*cos(theta)\n",
    "\n",
    "    if i+1 < N-1:\n",
    "        i += 1\n",
    "    else:\n",
    "        i = 0\n",
    "\n",
    "    pygame.draw.line(vindu,SORT,(vx2,1),(int(round(vindux*x+vx2)) ,-int(round(vinduy*y)))) \n",
    "    pygame.draw.circle(vindu,SORT,(int(round(vindux*x+vx2)) ,-int(round(vinduy*y))),15)\n",
    "    pygame.display.update()\n",
    "\n",
    "    for e in pygame.event.get():\n",
    "       if e.type == pygame.QUIT:\n",
    "           run = False\n",
    "\n",
    "pygame.quit()"
   ]
  },
  {
   "cell_type": "markdown",
   "metadata": {},
   "source": [
    "Det som er ekstra flott med slike programmer, er at det kan passe for mange ulike nivåer. De som aldri har sett noe særlig kode, kan kanskje nøye seg med å endre på variablene i starten av programmet, mens de som er drevne kodere og/eller fysikere, kan kikke litt på fysikken i simuleringsløkka. Mulighetene for differensiering med programmering er stor!\n",
    "\n",
    "## Modellering av differensiallikninger\n",
    "\n",
    "Differensiallikninger egner seg svært godt som utgangspunkt for modellering fordi de beskriver systemer som utvikler og endrer seg over tid. Newtons 2. lov, Newtons avkjølingslov, reaksjonsratelover og populasjonsmodeller er eksempler på sammenhenger som kan modelleres og studeres. Dette egner seg godt som et prosessorientert prosjektarbeid, og elevene bør få mulighet til å utforske åpne oppgaver som ikke legger for mye føringer. Dette kan være både krevende og frustrerende, men det er en særdeles viktig ferdighet å lære denne formen for problemløsning og kritisk tenkning.\n",
    "\n",
    "### Populasjonsvekst\n",
    "Her er et eksempel på hvordan en kan modellere populasjonsdynamikken i en økologisk populasjon. Det finnes mange modeller for akkurat dette, og vi kan se på et lite utvalg. Det viktigste er at elevene får drøfte seg imellom hvilke faktorer som er viktige å få med i modellene sine. Dette påvirker verdien til koeffisientene i likningene våre, i tillegg til at de må avgjøre hvilke sammenhenger og modeller de vil bruke for å representere ulike samspill og faktorer.\n",
    "\n",
    "Noen eksempler på faktorer vi må ta hensyn til når vi skal studere en populasjon, og som elevene må drøfte seg imellom, er:\n",
    "\n",
    "- Hvilket samspill har arten med andre arter?\n",
    "- Hvilken tilgang har populasjonen på mat og andre nødvendige ressurser?\n",
    "- Hvor stor plass har populasjonen til å utvide seg?\n",
    "- Hvilke abiotiske (ikke-levende) faktorer påvirker populasjonen? Dette kan f.eks. være årstider, lys- og vindforhold, luftfuktighet, næringssalter osv.\n",
    "- Hvilke sykdommer og parasitter finnes i økosystemet?\n",
    "\n",
    "Det viktigste er ikke her at elevene kommer fram til et fasitsvar, men at de drøfter og begrunner valgene de tar. Dette har et stort potensiale til å gi god dybdelæring innenfor de fagene det gjelder.\n",
    "\n",
    "En modell for populasjonsvekst er en enkel modell som kun tar hensyn til reproduksjon (representert ved reproduksjonsraten *a*). Her er det ingen begrensninger, og derfor ingen bæreevne. Vi tar utgangspunkt i bakterier som vokser i et maltoserikt medium. Endringen i antall bakterier kan da gis som:\n",
    "\n",
    "\\begin{equation}\n",
    "B'(t) = aB(t)\n",
    "\\end{equation}\n",
    "\n",
    "Et program som regner ut hvor mange bakterier *B* det er etter tida *t* gitt i timer, kan benytte seg av Eulers metode for å løse likningen. Programmet kan se slik ut:"
   ]
  },
  {
   "cell_type": "code",
   "execution_count": 3,
   "metadata": {},
   "outputs": [
    {
     "data": {
      "text/plain": [
       "Text(0,0.5,'Antall bakterier B')"
      ]
     },
     "execution_count": 3,
     "metadata": {},
     "output_type": "execute_result"
    },
    {
     "data": {
      "image/png": "[encoded data removed]",
      "text/plain": [
       "<matplotlib.figure.Figure at 0x17f23885390>"
      ]
     },
     "metadata": {},
     "output_type": "display_data"
    }
   ],
   "source": [
    "from pylab import *\n",
    "\n",
    "#Initialbetingelser\n",
    "t0 = 0           # Starttid\n",
    "B0 = 500         # Antall bakterier ved t = 0\n",
    "a = 0.63         # Reproduksjonsraten\n",
    "\n",
    "#Tidssteg\n",
    "N = 10000     # antall intervaller\n",
    "tid = 40      # antall timer\n",
    "dt = tid/N      \n",
    "\n",
    "#Matriser\n",
    "t = zeros(N)\n",
    "B = zeros(N)\n",
    "Bder = zeros(N)\n",
    "\n",
    "# Initierer matrisene\n",
    "t[0] = t0\n",
    "B[0] = B0\n",
    "\n",
    "# Eulers metode\n",
    "for i in range(N-1):\n",
    "    Bder[i] = a*B[i]  # Eksponentiell vekst - ingen begrensninger\n",
    "    B[i+1] = B[i] + Bder[i]*dt\n",
    "    t[i+1] = t[i] + dt\n",
    "    \n",
    "plot(t,B)\n",
    "title('Vekst i fermenteringskultur')\n",
    "xlabel('Antall timer t')\n",
    "ylabel('Antall bakterier B')"
   ]
  },
  {
   "cell_type": "markdown",
   "metadata": {},
   "source": [
    "Hvis vi vil, kan vi lett legge inn en annen modell, som baserer seg på at vi har en bæreevne på grunn av begrenset tilgang på f.eks. plass eller ressurser. Bæreevnen *b* er antallet individer som økosystemet stabiliserer seg rundt på grunn av dette. Modellen ser da slik ut:\n",
    "\n",
    "\\begin{equation}\n",
    "B'(t) = aB(t)\\left(1-\\frac{B(t)}{b}\\right)\n",
    "\\end{equation}\n",
    "\n",
    "Det skal ikke store endringene til i programmet vårt for å implementere denne modellen. Det er kun to linjer som må endres: bæreevnen må innføres som en konstant, og uttrykket for den deriverte (endringen) av bakteriene i løkka må skiftes ut med den nye modellen vår."
   ]
  },
  {
   "cell_type": "code",
   "execution_count": 4,
   "metadata": {},
   "outputs": [
    {
     "data": {
      "text/plain": [
       "Text(0,0.5,'Antall bakterier B')"
      ]
     },
     "execution_count": 4,
     "metadata": {},
     "output_type": "execute_result"
    },
    {
     "data": {
      "image/png": "[encoded data removed]",
      "text/plain": [
       "<matplotlib.figure.Figure at 0x17f2387b710>"
      ]
     },
     "metadata": {},
     "output_type": "display_data"
    }
   ],
   "source": [
    "from pylab import *\n",
    "\n",
    "#Initialbetingelser\n",
    "t0 = 0         # Starttid\n",
    "B0 = 500       # Antall bakterier ved t = 0\n",
    "a = 0.63       # Reproduksjonsraten\n",
    "b = 1E9        # Bæreevne (antall individer)\n",
    " \n",
    "#Tidssteg\n",
    "N = 10000     # antall intervaller\n",
    "tid = 40      # antall timer\n",
    "dt = tid/N        \n",
    "\n",
    "#Matriser\n",
    "t = zeros(N)\n",
    "B = zeros(N)\n",
    "Bder = zeros(N)\n",
    "\n",
    "# Initierer matrisene\n",
    "t[0] = t0\n",
    "B[0] = B0\n",
    "\n",
    "# Eulers metode\n",
    "for i in range(N-1):\n",
    "    Bder[i] = a*B[i]*(1 - B[i]/b)      # Logistisk vekst med bæreevne\n",
    "    B[i+1] = B[i] + Bder[i]*dt\n",
    "    t[i+1] = t[i] + dt\n",
    "    \n",
    "plot(t,B)\n",
    "title('Vekst i fermenteringskultur')\n",
    "xlabel('Antall timer t')\n",
    "ylabel('Antall bakterier B')"
   ]
  },
  {
   "cell_type": "markdown",
   "metadata": {},
   "source": [
    "Her ser vi at populasjonen stabiliserer seg etter at de har blitt 1 milliard individer pga. mangel på plass/ressurser. Vi kan også innføre en art som spiser bakteriene våre, f.eks. en amøbe. Da blir programmet litt mer komplisert, og spesielt plottingen er litt utfordrende. Men modelleringsprosessen er nokså lik, og det mest spennende ligger i tolkningen av disse modellene og diskusjonene mellom elevene. En modell for et samspill mellom to arter, der den ene arten spiser den andre, kan være slik:\n",
    "\n",
    "\\begin{equation}\n",
    "B'(t) = aB(t)\\left(1-\\frac{B(t)}{b}\\right) - cB(t)A(t)\n",
    "\\end{equation}\n",
    "\n",
    "Tilsvarende må vi se på endringen i amøbepopulasjonen:\n",
    "\n",
    "\\begin{equation}\n",
    "A'(t) = dB(t)A(t) - eA(t)\n",
    "\\end{equation}\n",
    "\n",
    "Hvis vi studerer likningene, kan vi se at første ledd i bakterilikningen vår ikke er noe annerledes enn sist. Men vi har fått et ledd til som er negativt, og som avhenger av både antallet bakterier og amøber. Dette er et ledd som sier noe om hvor fort bakteriene blir spist av amøber. Og selvsagt er det avhengig av hvor mange bakterier og amøber det er. I tillegg har vi koeffisienten *c* som sier noe om hvor ofte de møter hverandre og hvor gode amøbene er på å fange og spise bakterier. Dette er blant annet avhengig av hvor stor plass de har, og hvor lett det er å \"gjemme seg\" for bakteriene.\n",
    "\n",
    "Tilsvarende er det et ledd i amøbelikningen som likner på det leddet som reduserte bakteriepopulasjonen. Men vi har et annet fortegn og en annen koeffisient. Fortegnet er åpenbart positivt fordi det blir flere amøber dersom de får tilgang på bakterier. Koeffisienten *d* må være forskjellig fra *c* (og ofte mindre) fordi det dør en bakterie hver gang de møtes og amøben spiser bakterien, men det dannes ikke tilsvarende en ny amøbe! Dette kan gi en interessant diskusjon med elevene. Det siste leddet er amøbens naturlige dødsrate.\n",
    "\n",
    "En kan spørre seg om hvorfor amøben ikke begrense av en bæreevne, men gitt at den bare har bakterier å livnære seg på, begrenses den naturlig av dette. Det kan selvsagt diskuteres om det er andre faktorer som påvirker amøbepopulasjonen, og her ligger det mye faglig godteri som en kan kose seg med.\n",
    "\n",
    "Nedenfor er et program som modellerer bakterie- og amøbeveksten. Vi ser at reproduksjonsraten til bakteriene har gått ned, og vi kan diskutere hvorfor med elevene våre. Antakelig er det fordi en under en stresset situasjon ikke reproduserer så mye som når det ikke er fiender i økosystemet. Det kan være lurt å gi plottedelen av programmet til elevene snarere enn å be dem finne ut av det selv. Plotttingen er såpass spesiell at den neppe bør være pensum til eksamen."
   ]
  },
  {
   "cell_type": "code",
   "execution_count": 5,
   "metadata": {},
   "outputs": [
    {
     "data": {
      "text/plain": [
       "(0, 100.0)"
      ]
     },
     "execution_count": 5,
     "metadata": {},
     "output_type": "execute_result"
    },
    {
     "data": {
      "image/png": "[encoded data removed]",
      "text/plain": [
       "<matplotlib.figure.Figure at 0x17f23d7d588>"
      ]
     },
     "metadata": {},
     "output_type": "display_data"
    }
   ],
   "source": [
    "from pylab import *\n",
    "\n",
    "#Initialbetingelser\n",
    "B0 = 500       # Antall bakterier ved t = 0\n",
    "A0 = 10        # Antall amøber ved t = 0\n",
    "a = 0.12         # Reproduksjonsraten til bakteriene\n",
    "b = 1E9      # Bæreevnen til bakteriene\n",
    "c = 0.005         # Bakterie-amøbe møterate\n",
    "d = 0.00005       # Bakterie-amøbe møterate 2\n",
    "e = 0.06         # Dødsrate for amøber\n",
    "\n",
    "#Tidssteg\n",
    "N = 100000     # antall intervaller\n",
    "tid = 24*10      # antall timer\n",
    "dt = tid/N        \n",
    "\n",
    "#Matriser\n",
    "t = zeros(N)\n",
    "B = zeros(N)\n",
    "A = zeros(N)\n",
    "Bder = zeros(N)\n",
    "Ader = zeros(N)\n",
    "\n",
    "# Initierer matrisen\n",
    "B[0] = B0\n",
    "A[0] = A0\n",
    "\n",
    "# Eulers metode\n",
    "for i in range(N-1):\n",
    "    Bder[i] = a*B[i]*(1 - B[i]/b)  - c*B[i]*A[i]\n",
    "    Ader[i] = d*B[i]*A[i] - e*A[i]\n",
    "    B[i+1] = B[i] + Bder[i]*dt\n",
    "    A[i+1] = A[i] + Ader[i]*dt\n",
    "    t[i+1] = t[i] + dt\n",
    "\n",
    "\n",
    "# Plotting (vanskelig)\n",
    "fig = figure()\n",
    "ax = fig.add_subplot(111)\n",
    "data1 = ax.plot(t, B, '-b', label = 'Bakterier')\n",
    "ax2 = ax.twinx()\n",
    "data2 = ax2.plot(t, A, '-r', label = 'Amøber')\n",
    "\n",
    "data = data1 + data2\n",
    "datatittel = [l.get_label() for l in data]\n",
    "ax.legend(data, datatittel, loc=0)\n",
    "\n",
    "ax.grid()\n",
    "ax.set_xlabel(\"Tid (måneder)\")\n",
    "ax.set_ylabel(\"Antall bakterier\")\n",
    "ax2.set_ylabel(\"Antall amøber\")\n",
    "ax.set_ylim(0,1E4)\n",
    "ax2.set_ylim(0, 1E2)"
   ]
  },
  {
   "cell_type": "code",
   "execution_count": null,
   "metadata": {},
   "outputs": [],
   "source": []
  }
 ],
 "metadata": {
  "kernelspec": {
   "display_name": "Python 3",
   "language": "python",
   "name": "python3"
  },
  "language_info": {
   "codemirror_mode": {
    "name": "ipython",
    "version": 3
   },
   "file_extension": ".py",
   "mimetype": "text/x-python",
   "name": "python",
   "nbconvert_exporter": "python",
   "pygments_lexer": "ipython3",
   "version": "3.6.3"
  }
 },
 "nbformat": 4,
 "nbformat_minor": 2
}
