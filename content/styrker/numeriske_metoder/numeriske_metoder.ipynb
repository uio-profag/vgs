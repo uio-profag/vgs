{
 "cells": [
  {
   "cell_type": "code",
   "execution_count": 1,
   "metadata": {},
   "outputs": [],
   "source": [
    "from pylab import *"
   ]
  },
  {
   "cell_type": "markdown",
   "metadata": {
    "slideshow": {
     "slide_type": "slide"
    }
   },
   "source": [
    "# Numeriske metoder"
   ]
  },
  {
   "cell_type": "markdown",
   "metadata": {
    "slideshow": {
     "slide_type": "slide"
    }
   },
   "source": [
    "## Introduksjon\n",
    "Numeriske metoder er en samlebetegnelse for metoder som finner tilnærmede løsninger til matematiske problemer. Hovedområdene vi skal gå inn på er derivasjon, integrasjon og likningsløsing (inkludert differensiallikninger). Dette er metoder hvor idéen er enkel (f.eks. arealet under en graf) men de analytiske metodene kan være vanskelige (substitusjon, delbrøksoppspalting osv.).\n",
    "\n",
    "Enkle idéer kan ofte oversettes til enkle algoritmer. Kombinert med regnekraften i moderne datamaskiner kan disse brukes til å finne tilnærmede svar på problemet, ofte med så stor nøyaktighet som vi selv ønsker. Numerisk matematikk er fagfeltet som omhandler utviklingen og karakteriseringen av slike algoritmer. Eksempelvis er det viktig å vite om visse krav må oppfylles for at en algoritme skal fungere, eller hvor raskt den konvergerer.\n",
    "\n",
    "Siden algoritmene er ukompliserte og krever få forkunnskaper, håper vi at en utledning fra grunnprinnsipper kan føre til bedre dybdelæring av de matematiske konseptene. Slik kommer man også vekk fra «black box»-verktøy som `NLøs` i GeoGebra.\n",
    "\n",
    "De numeriske metodene har også fordelen av å være mer generelle. En algoritme for numerisk integrasjon bryr seg ikke om hva slags funksjon som skal integreres så lenge vi kan regne ut funksjonsverdier, i motsetning til de analytiske teknikkene. Følgelig kan de numeriske teknikkene også anvendes på vanskeligere, gjerne mer virkelighetsnære, problemer, f.eks. bevegelseslikninger med luftmotstand.\n",
    "\n",
    "Hvis du vil vite mer om matematikken bak disse numeriske metodene, anbefaler vi Knut Mørkens *Numerical Algorithms and Digital Representation*, som er gratis tilgjengelig [her](https://www.uio.no/studier/emner/matnat/math/MAT-INF1100/h17/kompendiet/matinf1100.pdf)."
   ]
  },
  {
   "cell_type": "markdown",
   "metadata": {
    "slideshow": {
     "slide_type": "slide"
    }
   },
   "source": [
    "## Derivasjon\n",
    "\n",
    "Hva er egentlig derivasjon? Hva er den deriverte av $\\sin x$? I 1T introduseres elevene til definisjonen av den deriverte, med stigningstall, grenseverdier osv. Deretter går elevene raskt i gang med å lære seg derivasjonsregel etter derivasjonsregel, hvorav få utledes, inntil elevene er i stand til å derivere de fleste «vanlige» funksjoner. Disse derivasjonsreglene blir så elevenes sorte bokser når de skal løse oppgaver.\n",
    "\n",
    "Numerisk derivasjon går tilbake til den grunnleggende idéen - stigningstall. Den enkleste numeriske metoden er rett og slett å begynne med definisjonen av den deriverte i et punkt $a$,\n",
    "\n",
    "$$\n",
    "    f'(a) = \\lim_{\\Delta x \\to 0} \\frac{f(a + \\Delta x) - f(a)}{\\Delta x},\n",
    "$$\n",
    "\n",
    "velge $\\Delta x$ som et lite tall og regne ut\n",
    "\n",
    "$$\n",
    "    f'(a) \\approx \\frac{f(a + \\Delta x) - f(a)}{\\Delta x}.\n",
    "$$\n",
    "\n",
    "Denne metoden kalles den asymmetriske Newton-kvotienten."
   ]
  },
  {
   "cell_type": "markdown",
   "metadata": {
    "slideshow": {
     "slide_type": "slide"
    }
   },
   "source": [
    "Eksempel:"
   ]
  },
  {
   "cell_type": "code",
   "execution_count": 2,
   "metadata": {
    "slideshow": {
     "slide_type": "fragment"
    }
   },
   "outputs": [
    {
     "data": {
      "text/plain": [
       "0.49995669789693054"
      ]
     },
     "execution_count": 2,
     "metadata": {},
     "output_type": "execute_result"
    }
   ],
   "source": [
    "a  = pi/3\n",
    "dx = 1e-4\n",
    "(sin(a + dx) - sin(a))/dx"
   ]
  },
  {
   "cell_type": "markdown",
   "metadata": {
    "slideshow": {
     "slide_type": "fragment"
    }
   },
   "source": [
    "Som vi ser, gir dette en god tilnærming. Ved å eksperimentere med forskjellige verdier av `dx` vil du se at feilen er proporsjonal med $\\Delta x$. En bedre metode er den symmetriske Newton-kvotienten,\n",
    "\n",
    "$$\n",
    "    f'(a) \\approx \\frac{f(a + \\Delta x) - f(a - \\Delta x)}{ 2 \\Delta x}.\n",
    "$$\n",
    "\n",
    "Med denne metoden er feilen proporsjonal med *kvadratet* av $\\Delta x$."
   ]
  },
  {
   "cell_type": "markdown",
   "metadata": {
    "slideshow": {
     "slide_type": "slide"
    }
   },
   "source": [
    "### Oppgave\n",
    "- Velg din favorittfunksjon og et punkt hvor verdien av den deriverte er kjent. Bruk Python til å regne ut en tilnærming til den deriverte i dette punktet.\n",
    "- Varier $\\Delta x$. Lag en tabell med $\\Delta x$ og feilen. La $\\Delta x$ variere fra f.eks. $10^{-1}$ til $10^{-15}$.\n",
    "- Sammenlign resultatene for de to nevnte tilnærmingene til $f'(a)$."
   ]
  },
  {
   "cell_type": "markdown",
   "metadata": {
    "slideshow": {
     "slide_type": "slide"
    }
   },
   "source": [
    "## Integrasjon\n",
    "Integrasjon er et annet område av skolematematikken med enkelt prinsipp (finn arealet under grafen) og kompliserte metoder (substitusjon, delvis integrasjon osv.).\n",
    "\n",
    "Definisjonen av et integral er via Riemannsummer, men dette er kun en formalisering av utregningen av et areal. Den enkleste numeriske metoden er rektangelmetoden:\n",
    "![Rektangelmetoden](rektangel.svg)\n",
    "En enkel forbedring er trapesmetoden:\n",
    "![Trapesmetoden](trapes.svg)\n",
    "Disse metodene er både konseptuelt og programmeringsmessig enkle, selv om de løser et så vanskelig problem som\n",
    "$$\n",
    "    \\int_0^{\\frac{3}{4}} \\mathrm{e}^{-4\\left(x-\\frac{1}{2}\\right)^2} \\, \\mathrm{d}x.\n",
    "$$"
   ]
  },
  {
   "cell_type": "markdown",
   "metadata": {},
   "source": [
    "## Differensiallikninger\n",
    "Eulers metode er den enkleste metoden for å løse differensiallikninger. Denne algoritmen baserer seg på prinsippene bak numerisk derivasjon.\n",
    "\n",
    "Et enkelt eksempel er bevegelseslikningene man får fra Newtons andre lov,\n",
    "\n",
    "$$\n",
    "    \\frac{\\mathrm{d}x}{\\mathrm{d}t} = v \\qquad \\text{og}\\qquad \\frac{\\mathrm{d}v}{\\mathrm{d}t} = a = \\frac{\\sum F}{m},\n",
    "$$\n",
    "\n",
    "hvor kreftene kan avhenge av både posisjon, hastighet og tid. Akselerasjonen avhenger derfor av disse, og kan skrives $a(x, v, t)$.\n",
    "\n",
    "Innsatt tilnærmingen til den deriverte blir\n",
    "\n",
    "$$\n",
    "    \\frac{x(t + \\Delta t) - x(t)}{\\Delta t} \\approx v(t) \\qquad \\text{og}\\qquad \\frac{v(t + \\Delta t) - v(t)}{\\Delta t} \\approx a(t),\n",
    "$$\n",
    "\n",
    "og disse likningene kan løses for $x(t+\\Delta t)$ og $v(t+\\Delta t)$,\n",
    "\n",
    "$$\n",
    "    x(t + \\Delta t) = x(t) + v(t)\\Delta t \\qquad \\text{og}\\qquad v(t + \\Delta t) = v(t) + a(t)\\Delta t.\n",
    "$$\n",
    "\n",
    "Når startposisjonen $x(0)$ og starthastigheten $v(0)$ er gitt, kan $x(i\\cdot\\Delta t)$ og $v(i\\cdot\\Delta t)$ tilnærmes med gjentatt bruk av disse formlene.\n",
    "\n",
    "Hoveddelen av koden kan se slik ut:\n",
    "```python\n",
    "for i in range(N):\n",
    "    a[i]   = F(t[i],s[i],v[i])/m\n",
    "    v[i+1] = v[i] + a[i]*dt\n",
    "    s[i+1] = s[i] + v[i]*dt\n",
    "```\n",
    "Her er `F` en funksjon som gir summen av kreftene.\n",
    "\n",
    "Legg merke til at kreftene bare inngår ett sted, nemlig i funksjonen `F`. Simulering av ulike fysiske systemer er derfor veldig enkelt - det holder å endre én linje i programmet. Eulers metode gjør det derfor mulig å simulere realistiske systemer som ville vært for vanskelige å modellere med konvensjonell skolematematikk."
   ]
  },
  {
   "cell_type": "markdown",
   "metadata": {},
   "source": [
    "## Likninger (nullpunkter)\n",
    "Siden differansen mellom to sider av en likning skal være $0$, kan likningsløsing omskrives til å finne nullpunktet for en funksjon $f(x)$.\n",
    "\n",
    "Skjæringssetningen sier at dersom funksjonen $f$ er kontinuerlig og $f(a)$ og $f(b)$ har forskjellig fortegn, har $f$ et nullpunkt $m$ i det åpne intervallet $(a,b)$.\n",
    "\n",
    "Halveringsmetoden er en svært enkel metode som består av følgende steg:\n",
    "- Gjett på $m = \\tfrac{1}{2}(a+b)$.\n",
    "- Dersom $f(m)=0$ eller $\\mid b-a\\mid < \\varepsilon$: Suksess!\n",
    "- Dersom $f(a)$ og $f(m)$ har forskjellig fortegn: Gjenta med $b=m$.\n",
    "- Dersom $f(m)$ og $f(b)$ har forskjellig fortegn: Gjenta med $a=m$.\n",
    "\n",
    "Se [folk.uio.no/anjohan/Halveringsmetoden.html](https://folk.uio.no/anjohan/Halveringsmetoden.html) for en animasjon.\n",
    "\n",
    "Kodeeksempel:\n",
    "```python\n",
    "while abs(b-a) > toleranse:\n",
    "    m = (a+b)/2\n",
    "    if f(a)*f(m) < 0:\n",
    "        b = m\n",
    "    elif f(b)*f(m) < 0:\n",
    "        a = m\n",
    "    else:\n",
    "        break\n",
    "```"
   ]
  }
 ],
 "metadata": {
  "kernelspec": {
   "display_name": "Python 3",
   "language": "python",
   "name": "python3"
  },
  "language_info": {
   "codemirror_mode": {
    "name": "ipython",
    "version": 3
   },
   "file_extension": ".py",
   "mimetype": "text/x-python",
   "name": "python",
   "nbconvert_exporter": "python",
   "pygments_lexer": "ipython3",
   "version": "3.6.8"
  }
 },
 "nbformat": 4,
 "nbformat_minor": 2
}
