{
 "cells": [
  {
   "cell_type": "markdown",
   "metadata": {},
   "source": [
    "# Programmering styrker fagene"
   ]
  },
  {
   "cell_type": "markdown",
   "metadata": {},
   "source": [
    "## Introduksjon\n",
    "\n",
    "Det er tre hovedaspekter ved hvordan programmering kan styrke realfagene.\n",
    "\n",
    "- Mengdetrening.\n",
    "- Utdyping.\n",
    "- Utviding.\n",
    "\n",
    "### Mengdetrening\n",
    "Mengdetrening går ut på at elevene møter samme formel, sammenheng eller konsept i flere sammenhenger. For eksempel kan de programmere formler fra fysikk, kjemi og matematikk slik at de kanskje lettere forstår og husker disse formlene. Programmet nedenfor er et eksempel på hvordan elevene kan lage en funksjon som regner ut pH i en løsning."
   ]
  },
  {
   "cell_type": "code",
   "execution_count": 1,
   "metadata": {},
   "outputs": [
    {
     "name": "stdout",
     "output_type": "stream",
     "text": [
      "Hva er konsentrasjonen til oksoniumioner? 1e-7\n",
      "pH-en i en løsning der konsentrasjonen av H+ er: 1e-07 mol/l er: 7.0\n"
     ]
    }
   ],
   "source": [
    "from pylab import *\n",
    "\n",
    "def kons_til_pH(konsentrasjon):\n",
    "    pH = -log10(konsentrasjon)\n",
    "    return pH\n",
    "\n",
    "konsentrasjon = float(input(\"Hva er konsentrasjonen til oksoniumioner? \"))\n",
    "\n",
    "print(\"pH-en i en løsning der konsentrasjonen av H+ er:\", konsentrasjon,\n",
    "      \"mol/l er:\", kons_til_pH(konsentrasjon))"
   ]
  },
  {
   "cell_type": "markdown",
   "metadata": {},
   "source": [
    "Et annet eksempel er å programmere en bevegelseslikning fra fysikk:"
   ]
  },
  {
   "cell_type": "code",
   "execution_count": 2,
   "metadata": {
    "scrolled": true
   },
   "outputs": [
    {
     "name": "stdout",
     "output_type": "stream",
     "text": [
      "30.0\n"
     ]
    }
   ],
   "source": [
    "def s(v,v_0, t):\n",
    "    return 0.5*(v + v_0)*t\n",
    "\n",
    "print(s(10,2,5))"
   ]
  },
  {
   "cell_type": "markdown",
   "metadata": {},
   "source": [
    "Eleven får også mengdetrening i algebra når de skal omforme formler og likninger slik at de kan programmeres og brukes som funksjoner. \n",
    "\n",
    "### Utdyping\n",
    "Når en først har lagd programmene, kan en i tillegg eksperimentere med formler og likninger lettere enn om en hadde måttet regne mye hver gang. Dette gjør at elevene lettere kan tolke, både kvalitativt og kvantitativt, ulike fenomener og sammenhenger. Et eksempel på dette, er hvordan de kan utforske Bohrs formel for energinivåene i hydrogenatomet uten å få masse kalkulatorfeil og andre regnefeil hver gang de tester et nytt energinivå (det er ikke alltid lett å få så små tall som Plancks og Bohrs konstant til å bli riktig på kalkulatoren!)."
   ]
  },
  {
   "cell_type": "code",
   "execution_count": 3,
   "metadata": {},
   "outputs": [
    {
     "name": "stdout",
     "output_type": "stream",
     "text": [
      "Skriv inn en verdi for n:6\n",
      "Skriv inn en verdi for m:3\n",
      "Bølgelengden til fotonet fra n = 6 til m = 3 er: 1096 nm\n"
     ]
    }
   ],
   "source": [
    "# Konstanter\n",
    "B = 2.18E-18\n",
    "h = 6.636E-34\n",
    "c = 3e8\n",
    "\n",
    "#Energinivåer\n",
    "n = int(input(\"Skriv inn en verdi for n:\")) #skallet det eksiteres fra\n",
    "m = int(input(\"Skriv inn en verdi for m:\")) #skallet det eksiteres til\n",
    "\n",
    "#Bohrs formel\n",
    "def Bohr(n,m):\n",
    "    f = B/h *(1/ m**2 - 1/n **2)\n",
    "    bl = c/f            # bølgelengde i meter\n",
    "    bl_nm = bl*1E9      # bølgelengde i nanometer\n",
    "    return bl_nm\n",
    "\n",
    "print(\"Bølgelengden til fotonet fra n =\",n,\"til m =\",m,\"er: %.0f\" % Bohr(n,m),\"nm\") "
   ]
  },
  {
   "cell_type": "markdown",
   "metadata": {},
   "source": [
    "Dette programmet kan også utvides slik at en går igjennom alle energinivåer det er mulig å deeksitere til."
   ]
  },
  {
   "cell_type": "code",
   "execution_count": 4,
   "metadata": {},
   "outputs": [
    {
     "name": "stdout",
     "output_type": "stream",
     "text": [
      "Skriv inn en verdi for n:6\n",
      "Bølgelengden til fotonet fra n = 6 til m = 5 : 7472 nm\n",
      "Bølgelengden til fotonet fra n = 6 til m = 4 : 2630 nm\n",
      "Bølgelengden til fotonet fra n = 6 til m = 3 : 1096 nm\n",
      "Bølgelengden til fotonet fra n = 6 til m = 2 : 411 nm\n",
      "Bølgelengden til fotonet fra n = 6 til m = 1 : 94 nm\n"
     ]
    }
   ],
   "source": [
    "#Konstanter\n",
    "B = 2.18E-18\n",
    "h = 6.636E-34\n",
    "c = 3e8\n",
    "\n",
    "#Energinivå elektronet skal deeksitere fra\n",
    "n = int(input(\"Skriv inn en verdi for n:\"))\n",
    "\n",
    "#Bohrs formel\n",
    "def Bohr(n,m):\n",
    "    f = B/h *(1/ m**2 - 1/n **2)\n",
    "    bl = c/f            # bølgelengde i meter\n",
    "    bl_nm = bl*1E9      # bølgelengde i nanometer\n",
    "    return bl_nm\n",
    "\n",
    "for m in range(n-1 ,0,-1):\n",
    "    print(\"Bølgelengden til fotonet fra n =\",n,\"til m =\",m,\": %.0f\" % Bohr(n,m),\"nm\")"
   ]
  },
  {
   "cell_type": "markdown",
   "metadata": {},
   "source": [
    "### Utdviding\n",
    "I programmering og modellering kan vi utvide realfagene ved å bruke og studere formler vi ikke møter i de øvrige realfagene. Dette kan gi en dypere og bedre forståelse av flere sider ved de naturvitenskapelige fagene. I tillegg kan både lærere og elever i større grad styre hva de vil undersøke nærmere, og dette kan være svært motiverende! Sammenhenger og likheter mellom de naturvitenskapelige fagene kan også komme lettere fram når en bruker samme verktøy til å studere fenomener fra ulike fagfelt som fysikk, biologi og kjemi.\n",
    "\n",
    "I tillegg kan vi gjøre en del ting vi tidligere ikke kunne, som å løse analytisk uløselige likninger, studere statistiske, tilfeldige fenomener (slik som diffusjon) eller lese av og behandle store mengder data. Eksempelet nedenfor leser av en datafil som inneholder energinivåene til hydrogenatomet gitt i elektronvolt. Det samme kan en da i praksis gjøre for alle atomer og molekyler, og da trenger en ikke lenger være prisgitt at det finnes en formel for det en ønsker å finne ut!"
   ]
  },
  {
   "cell_type": "code",
   "execution_count": null,
   "metadata": {},
   "outputs": [],
   "source": [
    "# Brukerparametre\n",
    "filename = \"levels.dat\"     # Datafil med energinivåer\n",
    "n = 2                       # Skallet det deeksiteres fra\n",
    "m = 1                       # Skallet det deeksiteres til\n",
    "\n",
    "def read_file(filename):\n",
    "    file = open(filename, \"r\")\n",
    "    levels = []\n",
    "    for line in file:\n",
    "        level = line.split()\n",
    "        if level[0].isdigit():  # Er elementet tall eller har det bokstaver i seg?\n",
    "            levels.append((level[0], level[1]))\n",
    "    return levels\n",
    "\n",
    "def energy_level(filename, n, m):\n",
    "    global energy\n",
    "    levels = read_file(filename)\n",
    "    energy = float(levels[n-1][1]) - float(levels[m-1][1])  # Energi til skall n minus energi til skall m\n",
    "    return energy\n",
    "\n",
    "energy_level(filename, n,m)\n",
    "\n",
    "print(\"Energien til fotonet som emitteres når et elektron deeksiterer fra skall\", n,\n",
    "      \"til skall\", m, \"er:\", energy, \"eV.\")"
   ]
  },
  {
   "cell_type": "markdown",
   "metadata": {},
   "source": [
    "Fila programmet leser av, kan du finne [her](https://akershusfk-my.sharepoint.com/:f:/g/personal/haan1709_akershus-fk_no/EmQFyczni-lFqM6GWu5sAkIBOkKEuYtS08JUrlcPLWx2xg). Det er derimot ikke alltid like lett å bruke slike filer direkte fra nettet. Noen ganger må en gjøre litt innsats i å rydde opp i fila slik at den blir grei å lese for et program."
   ]
  }
 ],
 "metadata": {
  "kernelspec": {
   "display_name": "Python 3",
   "language": "python",
   "name": "python3"
  },
  "language_info": {
   "codemirror_mode": {
    "name": "ipython",
    "version": 3
   },
   "file_extension": ".py",
   "mimetype": "text/x-python",
   "name": "python",
   "nbconvert_exporter": "python",
   "pygments_lexer": "ipython3",
   "version": "3.7.2"
  }
 },
 "nbformat": 4,
 "nbformat_minor": 2
}
